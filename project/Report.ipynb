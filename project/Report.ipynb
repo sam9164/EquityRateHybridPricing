{
 "cells": [
  {
   "cell_type": "markdown",
   "metadata": {},
   "source": [
    "# 1. Introduction"
   ]
  },
  {
   "cell_type": "markdown",
   "metadata": {},
   "source": [
    "$ \\text{For this project, we are going to price the following contract who will pay at maturity T in USD.}$\n",
    "<br><br>\n",
    "$$ max\\left[0,\\left(\\frac{S(T)}{S(0)}-k\\right)\\left(\\frac{L(T-\\delta,T-\\delta,T)}{L(0,T-\\delta,T)}-k^\\prime\\right)\\right]$$\n",
    "<br>\n",
    "$\\text{where:} $<br>\n",
    "$\\text{S(t) = the stock price of STOXX50E quoted from EUR into USD}$ <br>\n",
    "$\\text{$\\delta$ = 3-month USD LIBOR rate}$ <br>\n",
    "$\\text{T = expiration date}$ <br>\n",
    "$\\text{k, $k^{'}$ = relative strike prices}$ <br>\n",
    "$\\text{L(t,T-$\\delta$,T) = forward rate bet}$"
   ]
  },
  {
   "cell_type": "markdown",
   "metadata": {},
   "source": [
    "# 2. Model Assumption"
   ]
  },
  {
   "cell_type": "markdown",
   "metadata": {},
   "source": [
    "##   a) Foreign Equity Model"
   ]
  },
  {
   "cell_type": "markdown",
   "metadata": {},
   "source": [
    "Assume the foreign stock follows the local volatility model with a dynamic under the foreign risk-neutral measure $Q^f$:\n",
    "<br><br>\n",
    "$$\n",
    "dS_t = r_t^fS_t dt + \\sigma(t,S_t)S_t dW_t^{1,f}\n",
    "$$\n",
    "<br>\n",
    "where the foreign rate $r_t^f$ is constant, and we will use the SSVI volatility surface model to fit the market volatility $\\sigma\\left(t,S_t\\right)$, which will be discussed in Part III Model Caliberation."
   ]
  },
  {
   "cell_type": "markdown",
   "metadata": {},
   "source": [
    "##   b) Rates Model "
   ]
  },
  {
   "cell_type": "markdown",
   "metadata": {},
   "source": [
    "Assume the rate follows the Hull-White model with costant coefficient $\\alpha$ and time-dependant $\\theta$ :\n",
    "<br><br>\n",
    "$$\n",
    "dr_t = [\\theta(t)-\\alpha r_t ]dt+\\sigma dW_t^2\n",
    "$$\n",
    "<br> where $\\sigma$ is constant, and we will discuss the fitting of $\\theta\\left(t\\right)$ and Hull-White volatility $\\sigma$ later in Part III Model Caliberation."
   ]
  },
  {
   "cell_type": "markdown",
   "metadata": {},
   "source": [
    "## c) Local Volatility Quanto Process"
   ]
  },
  {
   "cell_type": "markdown",
   "metadata": {},
   "source": [
    "Here, we will convert the foreign model to the local volatility model with a dynamic under the domestic risk neutral measure Q:<br>\n",
    "$$\n",
    "dS_t = (r_t^f -\\rho_x \\sigma(t,S_t)\\sigma_x)S_t dt + \\sigma(t,S_t)S_t dW_t^1\n",
    "$$\n",
    "<br> where with a constant correlation between the foreign stock and foreign exchange rate $\\rho$ <br><br>\n",
    "$$\n",
    "dW_t^1 dW_t^2 = \\rho dt\n",
    "$$\n",
    "<br>"
   ]
  },
  {
   "cell_type": "markdown",
   "metadata": {},
   "source": [
    "# 3. Model Caliberation"
   ]
  },
  {
   "cell_type": "markdown",
   "metadata": {},
   "source": [
    "## a) Data Processing"
   ]
  },
  {
   "cell_type": "markdown",
   "metadata": {},
   "source": [
    "@Weimin_Wang"
   ]
  },
  {
   "cell_type": "markdown",
   "metadata": {},
   "source": [
    "## c) Yield Curve "
   ]
  },
  {
   "cell_type": "markdown",
   "metadata": {},
   "source": [
    "Given available zero rates $r(0,T_i)$ for various tenors i, we have\n",
    "<br><br>\n",
    "$$B(0,T_i) = e^{-T_ir(0,T_i)} = e^{-y_i}$$\n",
    "<br>\n",
    "We transform $r(0,T_i)$ into $y_i$ and interpolate $y_i$ with regard to $T_i$ using monotomic culic spline interpolation. After interpolated $y_i$ is available for $\\forall T_i$, we can derive various rates for $\\forall T_i$ using the following formulas:\n",
    "$$\n",
    "\\begin{array}{11}\n",
    "    \\\\\n",
    "     P_{\\text{zero-bond}} \\space & B(0,T_i) = e^{-T_ir(0,T_i)} = e^{-y_i}\\\\\n",
    "     \\text{Zero rate}& r(0,T_i) = \\frac{y_i}{T_i}\\\\\n",
    "     \\text{Countinous-compounding forward rate} & F(0,T_1,T_2) = \\frac{1}{T_2-T_1}\\log\\left(\\frac{B(0,T_1)}{B(0,T_2)}\\right)\\\\\n",
    "     \\text{Simple forward rate}& L(0,T_1,T_2) = \\frac{1}{T_2-T_1}\\frac{B(0,T_1)-B(0,T_2)}{B(0,T_2)}\\\\\n",
    "     \\text{Instantaneous forward rate}& f(0,T)= lim_{(T' - T)\\to 0} F(0,T,T') = \\frac{\\partial y(T)}{\\partial T} \\\\\n",
    "     \\text{Instantaneous spot rate}& r_0= f(0,0) = \\frac{\\partial y_i}{\\partial T_i}\\rvert_{i=0} \\\\\n",
    "\\end{array}\n",
    "$$"
   ]
  },
  {
   "cell_type": "markdown",
   "metadata": {},
   "source": [
    "## d) Hull White Volatility $\\sigma$"
   ]
  },
  {
   "cell_type": "markdown",
   "metadata": {},
   "source": [
    "The purpose of this model is to compute Hull-White volatility $\\sigma$ from caplet volatility $vol$. Given caplet volatility $vol$, we can get the caplet price,\n",
    "<br><br>\n",
    "$$\n",
    "Caplet(0,T_1,T_2,K,vol) = B(0,T_2) BS^C(K,T_1,S,vol,r)\n",
    "$$\n",
    "<br>\n",
    "After $Caplet(0,T_1,T_2,K,vol)$ is known, we can compute the bond price $C^B(0,T_1,T_2,K^B)$ and then derive the bond volatility $vol^B$ using the following equation:\n",
    "<br><br>\n",
    "$$\n",
    "C^B(0,T_1,T_2,K^B) = \\frac{(T_2-T_1)}{B(0,T_1)(1+K(T_2-T_1))}Caplet(0,T_1,T_2,K,vol) = BS^P(K^B,T_1,S^B,vol^B,r)\n",
    "$$\n",
    "<br>\n",
    "Then we will have\n",
    "<br><br>\n",
    "$$\n",
    "\\sigma_p =\\sqrt {T_1} vol^B\n",
    "$$\n",
    "<br>which will generate the Hull-White volatility:\n",
    "<br><br>\n",
    "$$\n",
    "\\sigma = \\sqrt{\\frac{2a^3\\sigma_p^2}{(1-e^{-a(T_2-T_1)})^2(1-e^{-2aT_1})^2}}\n",
    "$$\n",
    "where <br>\n",
    "$S=L(0,T_1,T_2)$ <br>\n",
    "$K^B=\\frac{1}{1+K(T_2-T_1)}$ <br>\n",
    "$S^B=\\frac{1}{1+(T_2-T_1)L(0,T_1,T_2)}$ <br>\n",
    "$r = 0$ <br>\n",
    "$a = 3$"
   ]
  },
  {
   "cell_type": "markdown",
   "metadata": {},
   "source": [
    "## e) SSVI Volatility Surface"
   ]
  },
  {
   "cell_type": "markdown",
   "metadata": {},
   "source": [
    "### * SSVI Parameterization"
   ]
  },
  {
   "cell_type": "markdown",
   "metadata": {},
   "source": [
    "We consider the following SSVI parameterisation of the total implied variance surface:\n",
    "<br><br>\n",
    "$$\n",
    "w(k,\\theta_t)\n",
    "= \\frac{\\theta_t}{2}\\left\\{1+\\rho\\varphi(\\theta_t) k + \\sqrt{\\left(\\varphi(\\theta_t){k}+\\rho\\right)^2\n",
    "+1-\\rho^2 }\\right\\},\n",
    "$$\n",
    "<br>\n",
    "with $\\theta_t = \\sigma_s^2 t$ and $k=log\\frac{K}{F}$, where $\\sigma_s$ denotes at-the-money volatility skew, K denotes strike, and F denotes the forward.\n",
    "\n",
    "<br><br>\n",
    "For Heston-Like Surface, the function $\\varphi$ is defined as:\n",
    "<br><br>\n",
    "$$\n",
    "\\varphi(\\theta)=\\frac{1}{\\lambda\\theta}\\left\\{1-\\frac{1-\\mathrm{e}^{-\\lambda\\theta}}{\\lambda\\theta}\\right\\},\n",
    "$$\n",
    "<br>\n",
    "where $\\lambda>0$, $\\rho \\in (-1,1)$.\n",
    "We further need to impose $\\lambda \\geq \\frac{1}{4}\\left(1+|\\rho|\\right)$ in order to prevent arbitrage.\n",
    "\n",
    "<br><br>\n",
    "and for Power-Law Surface:\n",
    "<br>\n",
    "$$\n",
    "\\varphi(\\theta)=\\frac{\\eta}{\\theta^\\gamma\\left(1+\\theta\\right)^{1-\\gamma}},\n",
    "$$\n",
    "<br>\n",
    "where $\\gamma\\in (0,\\frac{1}{2}]$,  $\\rho \\in (-1,1)$.\n",
    "We further need to impose $\\eta\\left(1+|\\rho|\\right)\\leq 2$ in order to prevent arbitrage.\n",
    "\n"
   ]
  },
  {
   "cell_type": "markdown",
   "metadata": {},
   "source": [
    "### *Opitimize the Parameters"
   ]
  },
  {
   "cell_type": "markdown",
   "metadata": {},
   "source": [
    "In order to fit the whole surface, we first need to find the optimal parameters $\\rho$,$\\gamma$,$\\lambda$,$\\eta$, which can be solved by minimizing the loss function as following.\n",
    "<br><br>\n",
    "The basic formula for the loss function is\n",
    "$$\n",
    "min \\sum_{t_i}\\sum_{i=1}^n\\left(w_{t_i,i}^{SSVI}-w_{t_i,i}^{market}\\right)^2\n",
    "$$\n",
    "<br><br>\n",
    "After adjusting the coefficients, we get\n",
    "$$\n",
    "min \\sum_{t_i}\\sum_{i=1}^n\\frac{1}{2}\\left(\\frac{w_{t_i,i}^{SSVI}}{t_i}-\\left(\\sigma_{t_i,i}^{market}\\right)^2\\right)^2\n",
    "$$\n",
    "<br>\n",
    "or\n",
    "<br>\n",
    "$$\n",
    "min \\sum_{t_i}\\sum_{i=1}^n\\frac{1}{2}\\left(w_{t_i,i}^{SSVI}-\\left(\\sigma_{t_i,i}^{market}\\right)^2t_i\\right)^2\n",
    "$$"
   ]
  },
  {
   "cell_type": "markdown",
   "metadata": {},
   "source": [
    "## *Derivatives"
   ]
  },
  {
   "cell_type": "markdown",
   "metadata": {},
   "source": [
    "Compute the first and second derivative of the SSVI function, $w(k,\\theta_t)$, with respect to $k$.\n",
    "<br><br>\n",
    "\\begin{align}\n",
    "\\frac{\\partial w}{\\partial k} & = \\frac{\\theta\\varphi}{2}\\frac{k\\varphi+\\rho+\\rho\\sqrt{\\varphi^2k^2+2\\rho\\varphi+1}}{\\sqrt{\\varphi^2k^2+2k\\rho\\varphi+1}}\\\\\n",
    "\\frac{\\partial^2 w}{\\partial k^2} & = \\frac{\\theta\\varphi^2}{2}\\frac{1-\\rho^2}\n",
    "{\\left(\\varphi^2k^2+2k\\rho\\varphi+1\\right)^\\frac{3}{2}}\n",
    "\\end{align}\n",
    "<br><br>\n",
    "Use the chain rule to find the first derivative of the SSVI function, $w(k,\\theta_t)$, with respect to $t$\n",
    "<br><br>\n",
    "$$\n",
    "\\frac{\\partial w}{\\partial t}=\\frac{\\partial w}{\\partial \\theta}\\frac{\\partial \\theta}{\\partial t}+\\frac{\\partial w}{\\partial \\varphi}\\frac{\\partial \\varphi}{\\partial \\theta}\\frac{\\partial \\theta}{\\partial t}\n",
    "$$\n",
    "<br>\n",
    "where $\\frac{\\partial \\theta}{\\partial t}$ can be calculated by interpolation and\n",
    "<br>\n",
    "$$\n",
    "\\begin{align}\n",
    "\\frac{\\partial w}{\\partial \\theta} & =\\frac{w}{\\theta}\\\\\n",
    "\\frac{\\partial w}{\\partial \\varphi} & = \\frac{k\\theta}{2}\\frac{k\\varphi+\\rho+\\rho\\sqrt{\\varphi^2k^2+2\\rho\\varphi+1}}{\\sqrt{\\varphi^2k^2+2k\\rho\\varphi+1}}\\\\\n",
    "\\frac{\\partial \\varphi^{power}}{\\partial \\theta} & =  \\frac{\\eta\\left(\\theta+\\gamma\\right)\\left(1+\\theta\\right)^{\\gamma-2}}{\\theta^{1+\\gamma}}\\\\\n",
    "\\frac{\\partial \\varphi^{heston}}{\\partial \\theta} & = \\frac{2-2\\exp{-\\lambda\\theta}-\\lambda\\theta\\exp{-\\lambda\\theta}-\\lambda\\theta}{\\lambda^2\\theta^3}\n",
    "\\end{align}\n",
    "$$\n",
    "\n",
    "\n"
   ]
  },
  {
   "cell_type": "markdown",
   "metadata": {},
   "source": [
    "## * Local Variance and Implied Variance"
   ]
  },
  {
   "cell_type": "markdown",
   "metadata": {},
   "source": [
    "<br><br>\n",
    "We then compute the (Dupire) local variance via the following formula:\n",
    "<br><br>\n",
    "$$\n",
    "\\sigma_{\\mathrm{loc}}^2(x, T) = \\frac{\\partial_{t}w(k, \\theta_{t})}{g(k, w(k, \\theta_{t}))},\n",
    "$$\n",
    "<br>\n",
    "for all $x\\in\\mathbb{R}$ and $t\\geq 0$, where the function $g$ is defined as:\n",
    "<br><br>\n",
    "$$\n",
    "\\begin{equation}\\label{gFunction}\n",
    "\\left.\n",
    "g(x,T):=\\left(\\left(1-\\frac{x\\partial_x w}{w}\\right)^2 -\\frac{(\\partial_x w)^2}{4}\\left(\\frac{1}{4}+\\frac{1}{w}\\right) + \\frac{\\partial_{xx}w}{2}\\right)\n",
    "\\right|_{(x,T)}.\n",
    "\\end{equation}\n",
    "$$\n",
    "<br>\n",
    "and the implied variance is\n",
    "<br><br>\n",
    "$$\n",
    "\\sigma_{\\mathrm{implied}}^2(x, T) = \\frac{w(k, \\theta_{t})}{T},\n",
    "$$"
   ]
  },
  {
   "cell_type": "markdown",
   "metadata": {},
   "source": [
    "# 4. Implementation"
   ]
  },
  {
   "cell_type": "markdown",
   "metadata": {},
   "source": [
    "# 5. Stochastic Control"
   ]
  },
  {
   "cell_type": "markdown",
   "metadata": {},
   "source": [
    "# 6. Conclusion"
   ]
  },
  {
   "cell_type": "code",
   "execution_count": null,
   "metadata": {},
   "outputs": [],
   "source": []
  }
 ],
 "metadata": {
  "kernelspec": {
   "display_name": "Python 3",
   "language": "python",
   "name": "python3"
  },
  "language_info": {
   "codemirror_mode": {
    "name": "ipython",
    "version": 3
   },
   "file_extension": ".py",
   "mimetype": "text/x-python",
   "name": "python",
   "nbconvert_exporter": "python",
   "pygments_lexer": "ipython3",
   "version": "3.6.8"
  },
  "toc": {
   "base_numbering": 1,
   "nav_menu": {},
   "number_sections": true,
   "sideBar": true,
   "skip_h1_title": false,
   "title_cell": "Table of Contents",
   "title_sidebar": "Contents",
   "toc_cell": false,
   "toc_position": {},
   "toc_section_display": true,
   "toc_window_display": false
  }
 },
 "nbformat": 4,
 "nbformat_minor": 2
}

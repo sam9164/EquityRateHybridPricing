{
 "cells": [
  {
   "cell_type": "markdown",
   "metadata": {
    "toc": true
   },
   "source": [
    "<h1>Hybrid Project<span class=\"tocSkip\"></span></h1>\n",
    "<div class=\"toc\"><ul class=\"toc-item\"><li><span><a href=\"#Helper-Functions\" data-toc-modified-id=\"Helper-Functions-1\"><span class=\"toc-item-num\">1&nbsp;&nbsp;</span>Helper Functions</a></span></li><li><span><a href=\"#Classes\" data-toc-modified-id=\"Classes-2\"><span class=\"toc-item-num\">2&nbsp;&nbsp;</span>Classes</a></span><ul class=\"toc-item\"><li><span><a href=\"#Market-Classes\" data-toc-modified-id=\"Market-Classes-2.1\"><span class=\"toc-item-num\">2.1&nbsp;&nbsp;</span>Market Classes</a></span><ul class=\"toc-item\"><li><span><a href=\"#Yield-Term-Structure\" data-toc-modified-id=\"Yield-Term-Structure-2.1.1\"><span class=\"toc-item-num\">2.1.1&nbsp;&nbsp;</span>Yield Term Structure</a></span></li><li><span><a href=\"#Vol-Term-Structure\" data-toc-modified-id=\"Vol-Term-Structure-2.1.2\"><span class=\"toc-item-num\">2.1.2&nbsp;&nbsp;</span>Vol Term Structure</a></span></li><li><span><a href=\"#Correlation-Term-Structure\" data-toc-modified-id=\"Correlation-Term-Structure-2.1.3\"><span class=\"toc-item-num\">2.1.3&nbsp;&nbsp;</span>Correlation Term Structure</a></span></li></ul></li><li><span><a href=\"#Instruments\" data-toc-modified-id=\"Instruments-2.2\"><span class=\"toc-item-num\">2.2&nbsp;&nbsp;</span>Instruments</a></span></li><li><span><a href=\"#Pricing-Classes\" data-toc-modified-id=\"Pricing-Classes-2.3\"><span class=\"toc-item-num\">2.3&nbsp;&nbsp;</span>Pricing Classes</a></span><ul class=\"toc-item\"><li><span><a href=\"#Stochastic-Process\" data-toc-modified-id=\"Stochastic-Process-2.3.1\"><span class=\"toc-item-num\">2.3.1&nbsp;&nbsp;</span>Stochastic Process</a></span><ul class=\"toc-item\"><li><span><a href=\"#1D-Stochastic-Process\" data-toc-modified-id=\"1D-Stochastic-Process-2.3.1.1\"><span class=\"toc-item-num\">2.3.1.1&nbsp;&nbsp;</span>1D Stochastic Process</a></span></li><li><span><a href=\"#ND-Stochastic-Process\" data-toc-modified-id=\"ND-Stochastic-Process-2.3.1.2\"><span class=\"toc-item-num\">2.3.1.2&nbsp;&nbsp;</span>ND Stochastic Process</a></span></li></ul></li><li><span><a href=\"#Analytical-Engine\" data-toc-modified-id=\"Analytical-Engine-2.3.2\"><span class=\"toc-item-num\">2.3.2&nbsp;&nbsp;</span>Analytical Engine</a></span></li><li><span><a href=\"#Monte-Carlo-Engine\" data-toc-modified-id=\"Monte-Carlo-Engine-2.3.3\"><span class=\"toc-item-num\">2.3.3&nbsp;&nbsp;</span>Monte Carlo Engine</a></span></li></ul></li></ul></li><li><span><a href=\"#Data-Processing\" data-toc-modified-id=\"Data-Processing-3\"><span class=\"toc-item-num\">3&nbsp;&nbsp;</span>Data Processing</a></span><ul class=\"toc-item\"><li><span><a href=\"#Yield-Curve\" data-toc-modified-id=\"Yield-Curve-3.1\"><span class=\"toc-item-num\">3.1&nbsp;&nbsp;</span>Yield Curve</a></span><ul class=\"toc-item\"><li><span><a href=\"#Domestic-Yield-Curve\" data-toc-modified-id=\"Domestic-Yield-Curve-3.1.1\"><span class=\"toc-item-num\">3.1.1&nbsp;&nbsp;</span>Domestic Yield Curve</a></span></li><li><span><a href=\"#Foreign-Yield-Curve\" data-toc-modified-id=\"Foreign-Yield-Curve-3.1.2\"><span class=\"toc-item-num\">3.1.2&nbsp;&nbsp;</span>Foreign Yield Curve</a></span></li></ul></li><li><span><a href=\"#Vol-Surface\" data-toc-modified-id=\"Vol-Surface-3.2\"><span class=\"toc-item-num\">3.2&nbsp;&nbsp;</span>Vol Surface</a></span><ul class=\"toc-item\"><li><span><a href=\"#Equity-Vol\" data-toc-modified-id=\"Equity-Vol-3.2.1\"><span class=\"toc-item-num\">3.2.1&nbsp;&nbsp;</span>Equity Vol</a></span></li><li><span><a href=\"#Rate-Vol\" data-toc-modified-id=\"Rate-Vol-3.2.2\"><span class=\"toc-item-num\">3.2.2&nbsp;&nbsp;</span>Rate Vol</a></span></li><li><span><a href=\"#FX-Vol\" data-toc-modified-id=\"FX-Vol-3.2.3\"><span class=\"toc-item-num\">3.2.3&nbsp;&nbsp;</span>FX Vol</a></span></li></ul></li><li><span><a href=\"#Correlation-Structure\" data-toc-modified-id=\"Correlation-Structure-3.3\"><span class=\"toc-item-num\">3.3&nbsp;&nbsp;</span>Correlation Structure</a></span></li></ul></li><li><span><a href=\"#Sanity-Check\" data-toc-modified-id=\"Sanity-Check-4\"><span class=\"toc-item-num\">4&nbsp;&nbsp;</span>Sanity Check</a></span><ul class=\"toc-item\"><li><span><a href=\"#Vol-Surface\" data-toc-modified-id=\"Vol-Surface-4.1\"><span class=\"toc-item-num\">4.1&nbsp;&nbsp;</span>Vol Surface</a></span><ul class=\"toc-item\"><li><span><a href=\"#Domestic-Yield-Curve\" data-toc-modified-id=\"Domestic-Yield-Curve-4.1.1\"><span class=\"toc-item-num\">4.1.1&nbsp;&nbsp;</span>Domestic Yield Curve</a></span></li><li><span><a href=\"#Foreign-Vol-Surface\" data-toc-modified-id=\"Foreign-Vol-Surface-4.1.2\"><span class=\"toc-item-num\">4.1.2&nbsp;&nbsp;</span>Foreign Vol Surface</a></span></li></ul></li><li><span><a href=\"#Engine-Check\" data-toc-modified-id=\"Engine-Check-4.2\"><span class=\"toc-item-num\">4.2&nbsp;&nbsp;</span>Engine Check</a></span><ul class=\"toc-item\"><li><span><a href=\"#Vanilla-Euripean-Analytical-v.s.-MC\" data-toc-modified-id=\"Vanilla-Euripean-Analytical-v.s.-MC-4.2.1\"><span class=\"toc-item-num\">4.2.1&nbsp;&nbsp;</span>Vanilla Euripean Analytical v.s. MC</a></span></li><li><span><a href=\"#Quanto\" data-toc-modified-id=\"Quanto-4.2.2\"><span class=\"toc-item-num\">4.2.2&nbsp;&nbsp;</span>Quanto</a></span></li><li><span><a href=\"#Vanilla-Rate-Cap/Floor-Analytical-v.s.-Semi-MC\" data-toc-modified-id=\"Vanilla-Rate-Cap/Floor-Analytical-v.s.-Semi-MC-4.2.3\"><span class=\"toc-item-num\">4.2.3&nbsp;&nbsp;</span>Vanilla Rate Cap/Floor Analytical v.s. Semi MC</a></span></li></ul></li></ul></li><li><span><a href=\"#Hybrid-Pricing-with-Fixed-Correlation\" data-toc-modified-id=\"Hybrid-Pricing-with-Fixed-Correlation-5\"><span class=\"toc-item-num\">5&nbsp;&nbsp;</span>Hybrid Pricing with Fixed Correlation</a></span></li></ul></div>"
   ]
  },
  {
   "cell_type": "code",
   "execution_count": 1,
   "metadata": {},
   "outputs": [],
   "source": [
    "import pandas as pd\n",
    "import numpy as np\n",
    "import matplotlib.pyplot as plt\n",
    "from scipy.stats import norm\n",
    "from abc import ABCMeta, abstractmethod\n",
    "from scipy import stats\n",
    "import scipy.integrate as integrate\n",
    "from scipy.interpolate import PchipInterpolator, CubicSpline\n",
    "from scipy.optimize import minimize\n",
    "import tensorflow as tf"
   ]
  },
  {
   "cell_type": "code",
   "execution_count": 2,
   "metadata": {},
   "outputs": [],
   "source": [
    "from mpl_toolkits.mplot3d import Axes3D  # noqa: F401 unused import\n",
    "\n",
    "import matplotlib.pyplot as plt\n",
    "from matplotlib import cm"
   ]
  },
  {
   "cell_type": "markdown",
   "metadata": {},
   "source": [
    "# Helper Functions"
   ]
  },
  {
   "cell_type": "code",
   "execution_count": 3,
   "metadata": {},
   "outputs": [],
   "source": [
    "def blackscholes_price(K, T, S, vol, r=0, q=0, callput='call'):\n",
    "    F = S*np.exp((r-q)*T)\n",
    "    v = np.sqrt(vol**2*T)\n",
    "    d1 = np.log(F/K)/v + 0.5*v\n",
    "    d2 = d1 - v\n",
    "    try:\n",
    "        opttype = {'call':1, 'put':-1}[callput.lower()]\n",
    "    except:\n",
    "        raise ValueError('The value of callput must be either \"call\" or \"put\".')\n",
    "    price = opttype*(F*norm.cdf(opttype*d1)-K*norm.cdf(opttype*d2))*np.exp(-r*T)\n",
    "    return price\n",
    "\n",
    "# all inputs must be scalar\n",
    "def blackscholes_impv_scalar(K, T, S, value, r=0, q=0, callput='call', tol=1e-6, maxiter=500):\n",
    "    if (K <= 0) or (T <= 0):\n",
    "        return np.nan\n",
    "    F = S*np.exp((r-q)*T)\n",
    "    K = K/F\n",
    "    value = value*np.exp(r*T)/F\n",
    "    callput = callput.lower()\n",
    "    if callput not in ['call', 'put']:\n",
    "        raise ValueError('The value of \"callput\" must be either \"call\" or \"put\"')\n",
    "    opttype = 1 if callput == 'call' else -1\n",
    "    value -= max(opttype * (1 - K), 0)\n",
    "    if value < 0:\n",
    "        return np.nan\n",
    "    if (value == 0):\n",
    "        return 0\n",
    "    j = 1\n",
    "    p = np.log(K)\n",
    "    if K >= 1:\n",
    "        x0 = np.sqrt(2 * p)\n",
    "        x1 = x0 - (0.5 - K * norm.cdf(-x0) - value) * np.sqrt(2*np.pi)\n",
    "        while (abs(x0 - x1) > tol*np.sqrt(T)) and (j < maxiter):\n",
    "            x0 = x1\n",
    "            d1 = -p/x1+0.5*x1\n",
    "            x1 = x1 - (norm.cdf(d1) - K*norm.cdf(d1-x1)-value)*np.sqrt(2*np.pi)*np.exp(0.5*d1**2)\n",
    "            j += 1\n",
    "        return x1 / np.sqrt(T)\n",
    "    else:\n",
    "        x0 = np.sqrt(-2 * p)\n",
    "        x1 = x0 - (0.5*K-norm.cdf(-x0)-value)*np.sqrt(2*np.pi)/K\n",
    "        while (abs(x0-x1) > tol*np.sqrt(T)) and (j < maxiter):\n",
    "            x0 = x1\n",
    "            d1 = -p/x1+0.5*x1\n",
    "            x1 = x1-(K*norm.cdf(x1-d1)-norm.cdf(-d1)-value)*np.sqrt(2*np.pi)*np.exp(0.5*d1**2)\n",
    "            j += 1\n",
    "        return x1/np.sqrt(T)\n",
    "\n",
    "# vectorized version\n",
    "blackscholes_impv = np.vectorize(blackscholes_impv_scalar, excluded={'callput', 'tol', 'maxiter'})\n",
    "\n",
    "def CapletVoltoHullWhileVol(K, T1, T2, YieldCurve, vol, alpha, capfloor='cap'):\n",
    "    libor = YieldCurve.forwardRateSimple(T1, T2)\n",
    "    callput = {'cap': 'call', 'floor':'put'}[capfloor.lower()]\n",
    "    cap_price = blackscholes_price(K, T1, libor, vol, r=0, q=0, callput=callput)*YieldCurve.discount(T2)\n",
    "    Kbond = 1/(1+K*(T2-T1))\n",
    "    Sbond = YieldCurve.discount(T2)/YieldCurve.discount(T1)\n",
    "    price = cap_price/YieldCurve.discount(T1)/(1+K*(T2-T1))*(T2-T1)\n",
    "    callput = {'cap': 'put', 'floor':'call'}[capfloor.lower()]\n",
    "    sigmaP = blackscholes_impv(Kbond, T1, Sbond, price, r=0, q=0, callput=callput)*np.sqrt(T1)\n",
    "    HWvol = np.sqrt(2*alpha**3*sigmaP**2/(1-np.exp(-alpha*(T2-T1)))**2/(1-np.exp(-2*alpha*(T1))))\n",
    "    return HWvol"
   ]
  },
  {
   "cell_type": "markdown",
   "metadata": {},
   "source": [
    "# Classes"
   ]
  },
  {
   "cell_type": "markdown",
   "metadata": {},
   "source": [
    "## Market Classes"
   ]
  },
  {
   "cell_type": "markdown",
   "metadata": {},
   "source": [
    "### Yield Term Structure"
   ]
  },
  {
   "cell_type": "code",
   "execution_count": 4,
   "metadata": {},
   "outputs": [],
   "source": [
    "class YieldTermStructure(metaclass=ABCMeta):\n",
    "    @abstractmethod\n",
    "    def discount(self, T):\n",
    "        raise NotImplementedError()\n",
    "    \n",
    "    def zeroRate(self, T):\n",
    "        return -np.log(self.discount(T))/T\n",
    "    def forwardRate(self, T1, T2):\n",
    "        return (np.log(self.discount(T1))-np.log(self.discount(T2)))/(T2-T1)\n",
    "    def forwardRateSimple(self, T1, T2):\n",
    "        return (self.discount(T1)-self.discount(T2))/(self.discount(T2)*(T2-T1))\n",
    "    \n",
    "    @abstractmethod\n",
    "    def instantaneousForwardRate(self, T):\n",
    "        raise NotImplementedError()\n",
    "    @abstractmethod\n",
    "    def instantaneousForwardRatePrime(self, T):\n",
    "        raise NotImplementedError()"
   ]
  },
  {
   "cell_type": "code",
   "execution_count": 5,
   "metadata": {},
   "outputs": [],
   "source": [
    "class YieldFlat(YieldTermStructure):\n",
    "    def __init__(self, r):\n",
    "        '''\n",
    "            Tenor: time in year\n",
    "            Rate: continuously-compounding\n",
    "        '''\n",
    "        self.r = r\n",
    "    def discount(self, T):\n",
    "        return np.exp(-self.r*T)\n",
    "    def instantaneousForwardRate(self, T):\n",
    "        return self.r\n",
    "    def instantaneousForwardRatePrime(self, T):\n",
    "        return 0.0"
   ]
  },
  {
   "cell_type": "code",
   "execution_count": 6,
   "metadata": {},
   "outputs": [],
   "source": [
    "class YieldCurve(YieldTermStructure):\n",
    "    def __init__(self, tenor, rate):\n",
    "        '''\n",
    "            Tenor: time in year\n",
    "            Rate: continuous-compounding rate\n",
    "        '''\n",
    "        self.tenor = tenor\n",
    "        self.rate = rate\n",
    "        \n",
    "        tenor = np.concatenate((np.array([0]),self.tenor))\n",
    "        rate = np.concatenate((np.array([1]),self.rate))\n",
    "        logB = -np.log(np.exp(-rate*tenor))\n",
    "        interpolator = PchipInterpolator(tenor, logB, extrapolate=True)\n",
    "        self.logDiscount = interpolator.__call__\n",
    "        self.logBtPrime = lambda T, k : interpolator.derivative(k)(T)\n",
    "        \n",
    "    def discount(self, T):\n",
    "        return np.exp(-self.logDiscount(T))\n",
    "    def instantaneousForwardRate(self, T):\n",
    "        return self.logBtPrime(T, k=1)\n",
    "    def instantaneousForwardRatePrime(self, T):\n",
    "        return self.logBtPrime(T, k=2)"
   ]
  },
  {
   "cell_type": "markdown",
   "metadata": {},
   "source": [
    "### Vol Term Structure"
   ]
  },
  {
   "cell_type": "code",
   "execution_count": 7,
   "metadata": {},
   "outputs": [],
   "source": [
    "class VolTermStructure(metaclass=ABCMeta):\n",
    "    @abstractmethod\n",
    "    def impliedVol(self,  T, moneyness):\n",
    "        raise NotImplementedError()\n",
    "    @abstractmethod\n",
    "    def localVol(self, T, moneyness):\n",
    "        raise NotImplementedError()"
   ]
  },
  {
   "cell_type": "code",
   "execution_count": 8,
   "metadata": {},
   "outputs": [],
   "source": [
    "class VolFlat(VolTermStructure):\n",
    "    def __init__(self, vol):\n",
    "        self.vol = vol\n",
    "    def impliedVol(self, T, K):\n",
    "        return np.full_like(a=K, fill_value=self.vol, dtype=np.double)\n",
    "    def localVol(self, T, K):\n",
    "        return self.impliedVol(T, K)"
   ]
  },
  {
   "cell_type": "code",
   "execution_count": 9,
   "metadata": {},
   "outputs": [],
   "source": [
    "class VolSSVI(VolTermStructure):\n",
    "    def __init__(self, tenor, strike, spot, iv, Rate, type='Power'):\n",
    "        '''\n",
    "            dim0: tenor\n",
    "            dim1: strike\n",
    "        '''\n",
    "        self.tenor = tenor\n",
    "        self.strike = strike\n",
    "        self.spot = spot\n",
    "        self.YieldTermStructure = Rate\n",
    "        self.forward = spot/np.array([self.YieldTermStructure.discount(t) for t in self.tenor])\n",
    "        self.iv = iv\n",
    "        self.type = type\n",
    "        \n",
    "        self.k = np.array([np.log(self.strike/self.forward[i]) for i in range(len(self.tenor))])\n",
    "        self.iv_ATM = np.array([CubicSpline(self.k[i], self.iv[i])(0.0) for i in range(len(self.tenor))])\n",
    "        self.theta0 = np.array([self.iv_ATM[i]**2*self.tenor[i] for i in range(len(self.tenor))])\n",
    "        \n",
    "        tenor = np.concatenate((np.array([0]),self.tenor))\n",
    "        theta0 = np.concatenate((np.array([0]),self.theta0))\n",
    "        self.theta = PchipInterpolator(tenor, theta0, extrapolate=True).__call__\n",
    "        self.thetaPrime = PchipInterpolator(tenor, theta0, extrapolate=True).derivative(1)\n",
    "        \n",
    "        if type=='Power':\n",
    "            self.param = np.array([0, 1, 0.5]) # rho, eta, gamma\n",
    "            self.phi = lambda theta, param: param[1]/theta**param[2]/(1+theta)**(1-param[2])\n",
    "            self.phiPrime = lambda theta, param: -param[1]*(theta+param[2])*((1+theta)**(param[2]-2))/(theta**(1+param[2]))\n",
    "            self.cons = [{'type': 'ineq',\n",
    "                          'fun': lambda x: np.array([1 - np.abs(x[0])]),\n",
    "                          'jac': lambda x: np.array([-np.sign(x[0]), 0., 0.])}, # for rho\n",
    "                         {'type': 'ineq',\n",
    "                          'fun': lambda x: np.array([x[1]]),\n",
    "                          'jac': lambda x: np.array([0., 1., 0.])}, # for eta\n",
    "                         {'type': 'ineq',\n",
    "                          'fun': lambda x: np.array([0.25 - np.abs(x[2]-0.25)]),\n",
    "                          'jac': lambda x: np.array([0., 0., -np.sign(x[2]-0.25)])}, # for gamma\n",
    "                         {'type': 'ineq',\n",
    "                          'fun': lambda x: np.array(2 - x[1] * (1 + np.abs(x[0]))),\n",
    "                          'jac': lambda x: np.array([-np.sign(x[0]), (1 + np.abs(x[0])), 0.])}] # for no-arbitrage condition\n",
    "    \n",
    "        elif type=='Heston':\n",
    "            self.param = np.array([0, 1.]) # rho, lambda\n",
    "            self.phi = lambda theta, param: 1/(theta*param[1])*(1-(1-np.exp(-param[1]*theta))/(param[1]*theta))\n",
    "            self.phiPrime = lambda theta, param: (-param[1]*theta-param[1]*theta*np.exp(-param[1]*theta)-2*np.exp(-param[1]*theta)+2)/((param[1]**2)*(theta**3))\n",
    "            self.cons = [{'type': 'ineq',\n",
    "                          'fun': lambda x: np.array([1 - np.abs(x[0])]),\n",
    "                          'jac': lambda x: np.array([-np.sign(x[0]), 0.])}, # for rho\n",
    "                         {'type': 'ineq',\n",
    "                          'fun': lambda x: np.array([x[1]]),\n",
    "                          'jac': lambda x: np.array([0., 1.])}, # for lambda\n",
    "                         {'type': 'ineq',\n",
    "                          'fun': lambda x: np.array([4. * x[1] - (1. + np.abs(x[0]))]),\n",
    "                          'jac': lambda x: np.array([-np.sign(x[0]), 4.])}] # for no-arbitrage condition\n",
    "\n",
    "        def loss(param):\n",
    "            var = np.array([self.w(param, self.k[i], self.theta0[i])/self.tenor[i] for i in range(len(self.theta0))])\n",
    "            return 0.5*np.sum((self.iv**2-var)**2)\n",
    "\n",
    "#         def loss(param):\n",
    "#             var = np.array([self.w(param, self.k[i], self.theta0[i]) for i in range(len(self.theta0))])\n",
    "#             return 0.5*np.sum((self.iv**2*self.tenor[:, np.newaxis]-var)**2)\n",
    "        \n",
    "        self.res = minimize(loss, x0=self.param, constraints=self.cons, #jac=self.SSVI_L_deriv_Power, \n",
    "            method='SLSQP', options={'disp': True, 'maxiter': 10000}, tol=1e-8)\n",
    "        self.param = self.res.x\n",
    "\n",
    "    def w(self, param, k, theta):\n",
    "        rho = param[0]\n",
    "        return theta/2*(1+rho*self.phi(theta, param)*k + \\\n",
    "                            np.sqrt((self.phi(theta, param)*k+rho)**2 + (1-rho**2)))\n",
    "    def wx(self, k, theta):\n",
    "        ## First derivative with respect to x\n",
    "        rho = self.param[0]\n",
    "        phi = self.phi(theta, self.param)\n",
    "        return 0.5*theta*phi*(phi*k+rho*np.sqrt(phi**2*k**2+2.*phi*rho*k+1.)+rho)/np.sqrt(phi**2*k**2+2.*phi*rho*k+1.)\n",
    "    \n",
    "    def wxx(self, k, theta):\n",
    "        rho = self.param[0]\n",
    "        phi = self.phi(theta, self.param)\n",
    "        return 0.5*theta*phi**2*(1.-rho**2)/ ((phi**2*k**2 + 2.*phi*rho*k + 1.)*np.sqrt(phi**2*k**2+2.*phi*rho*k+1.))\n",
    "    \n",
    "    def wt(self, k, T):\n",
    "        theta = self.theta(T)\n",
    "        x=k\n",
    "        rho = self.param[0]\n",
    "        dtheta_dt = self.thetaPrime(T)\n",
    "        p = self.phi(theta, self.param)\n",
    "        dphi_dtheta = self.phiPrime(theta, self.param)\n",
    "        dw_dphi = 0.5*theta*x*(p*x+rho*np.sqrt(p*p*x*x+2.*p*rho*x+1.)+rho)/np.sqrt(p*p*x*x+2.*p*rho*x+1.)\n",
    "#        dw_dphi = 0.5*theta*rho*x + 0.5*theta*x*(p*x+rho)/np.sqrt(p*p*x*x+2.*p*rho*x+1.)\n",
    "        dw_dtheta = self.w(self.param, k, theta)/theta\n",
    "        return dw_dtheta*dtheta_dt + dw_dphi*dphi_dtheta*dtheta_dt\n",
    "    \n",
    "    def g(self, k, theta):\n",
    "        w = self.w(self.param, k, theta)\n",
    "        wx = self.wx(k, theta)\n",
    "        wxx = self.wxx(k, theta)\n",
    "        return (1.-0.5*k*wx/w)*(1.-0.5*k*wx/w) - 0.25*wx**2*(0.25 + 1./w) + 0.5*wxx\n",
    "    \n",
    "    def impliedVol(self, T, K):\n",
    "        F = self.spot/self.YieldTermStructure.discount(T)\n",
    "        k = np.log(K/F)\n",
    "        theta = self.theta(T)\n",
    "        return np.sqrt(self.w(self.param, k, theta)/T)\n",
    "    \n",
    "    def localVol(self, T, K):\n",
    "        ## Compute the equivalent SSVI local variance\n",
    "        F = self.spot/self.YieldTermStructure.discount(T)\n",
    "        k = np.log(K/F)\n",
    "        theta = self.theta(T)\n",
    "        return np.sqrt(self.wt(k, T) / self.g(k, theta))"
   ]
  },
  {
   "cell_type": "markdown",
   "metadata": {},
   "source": [
    "### Correlation Term Structure"
   ]
  },
  {
   "cell_type": "code",
   "execution_count": 10,
   "metadata": {},
   "outputs": [],
   "source": [
    "class CorrTermStructure(metaclass=ABCMeta):\n",
    "    @abstractmethod\n",
    "    def Corr(self,  T, moneyness):\n",
    "        raise NotImplementedError()\n",
    "    @abstractmethod\n",
    "    def localCorr(self, T, moneynss):\n",
    "        raise NotImplementedError()"
   ]
  },
  {
   "cell_type": "code",
   "execution_count": 11,
   "metadata": {},
   "outputs": [],
   "source": [
    "class CorrFlat(CorrTermStructure):\n",
    "    def __init__(self, corr):\n",
    "        self.corr = corr\n",
    "    def Corr(self, T, moneyness):\n",
    "        return np.full_like(a=moneyness, fill_value=self.corr)\n",
    "    def localCorr(self, T, moneyness):\n",
    "        return self.corr"
   ]
  },
  {
   "cell_type": "markdown",
   "metadata": {},
   "source": [
    "## Instruments"
   ]
  },
  {
   "cell_type": "code",
   "execution_count": 12,
   "metadata": {},
   "outputs": [],
   "source": [
    "class Option(metaclass=ABCMeta):\n",
    "    def __init__(self, maturity):\n",
    "        self.maturity = maturity\n",
    "        \n",
    "    @abstractmethod\n",
    "    def payoff(self):\n",
    "        raise NotImplementedError()\n",
    "        \n",
    "    def setEngine(self, engine):\n",
    "        assert(engine.process.maturity==self.maturity)\n",
    "        self.engine = engine\n",
    "    def pricing(self):\n",
    "        return self.engine.pricing(self)"
   ]
  },
  {
   "cell_type": "code",
   "execution_count": 13,
   "metadata": {},
   "outputs": [],
   "source": [
    "class VanillaEuropeanOption(Option):\n",
    "    def __init__(self, maturity, strike, strikeType='abs', callput='call'):\n",
    "        super(VanillaEuropeanOption, self).__init__(maturity)\n",
    "        self.strike = strike\n",
    "        assert(strikeType==\"abs\" or strikeType=='per')\n",
    "        self.strikeType = strikeType\n",
    "        self.callput = callput\n",
    "        try:\n",
    "            self.opttype = {'call':1, 'put':-1}[callput.lower()]\n",
    "        except:\n",
    "            raise ValueError('The value of callput must be either \"call\" or \"put\".')\n",
    "\n",
    "    def payoff(self, x):\n",
    "        return np.maximum((x-self.strike)*self.opttype, 0)"
   ]
  },
  {
   "cell_type": "code",
   "execution_count": 14,
   "metadata": {
    "scrolled": true
   },
   "outputs": [],
   "source": [
    "class VanillaCapFloorlet(Option):\n",
    "    def __init__(self, maturity, fixingDate, strike, strikeType='abs', capfloor='cap'):\n",
    "        super(VanillaCapFloorlet, self).__init__(maturity)\n",
    "        self.strike = strike\n",
    "        assert(strikeType==\"abs\" or strikeType=='per')\n",
    "        self.strikeType = strikeType\n",
    "        self.fixingDate = fixingDate\n",
    "        self.capfloor = capfloor\n",
    "        assert(fixingDate < maturity)\n",
    "        try:\n",
    "            self.opttype = {'cap':1, 'floor':-1}[capfloor.lower()]\n",
    "        except:\n",
    "            raise ValueError('The value of capfloor must be either \"cap\" or \"floor\".')\n",
    "    \n",
    "    def payoff(self, x):\n",
    "        return np.maximum((x-self.strike)*self.opttype, 0)"
   ]
  },
  {
   "cell_type": "code",
   "execution_count": 15,
   "metadata": {},
   "outputs": [],
   "source": [
    "class HybridProduct(Option):\n",
    "    def __init__(self, strikeEquity, strikeRate, maturity, fixingDate, strikeType='abs'):\n",
    "        self.strikeEquity = strikeEquity\n",
    "        self.strikeRate = strikeRate\n",
    "        self.maturity = maturity\n",
    "        self.fixingDate = fixingDate\n",
    "        assert(strikeType==\"abs\" or strikeType=='per')\n",
    "        self.strikeType = strikeType\n",
    "    def payoff(self, x, y):\n",
    "        return np.maximum((x-self.strikeEquity)*(y-self.strikeRate), 0)"
   ]
  },
  {
   "cell_type": "markdown",
   "metadata": {},
   "source": [
    "## Pricing Classes"
   ]
  },
  {
   "cell_type": "markdown",
   "metadata": {},
   "source": [
    "### Stochastic Process"
   ]
  },
  {
   "cell_type": "markdown",
   "metadata": {},
   "source": [
    "#### 1D Stochastic Process"
   ]
  },
  {
   "cell_type": "code",
   "execution_count": 16,
   "metadata": {},
   "outputs": [],
   "source": [
    "class StochasticProcess(metaclass=ABCMeta):\n",
    "    def __init__(self, x0, maturity):\n",
    "        self.x0 = x0\n",
    "        self.maturity = maturity\n",
    "        self.dim = 1\n",
    "    \n",
    "    @abstractmethod\n",
    "    def drift(self, t, x):\n",
    "        raise NotImplementedError()\n",
    "    @abstractmethod\n",
    "    def diffusion(self, t, x):\n",
    "        raise NotImplementedError()\n",
    "    \n",
    "    def expectation(self, t, x, dt):\n",
    "        return self.drift(t, x)*dt\n",
    "    \n",
    "    def stdDeviation(self, t, x, dt):\n",
    "        return self.diffusion(t, x)*np.sqrt(dt)\n",
    "    \n",
    "    def evolve(self, t, x, dt, dW):\n",
    "        return self.expectation(t, x, dt) + self.stdDeviation(t, x, dt)*dW"
   ]
  },
  {
   "cell_type": "code",
   "execution_count": 17,
   "metadata": {},
   "outputs": [],
   "source": [
    "class LocalVolProcess(StochasticProcess):\n",
    "    def __init__(self, x0, maturity, Vol, Rate):\n",
    "        '''\n",
    "            Vol: VolTermStructure class\n",
    "            Rate: scalar or YieldTermStructure class\n",
    "        '''\n",
    "        super(LocalVolProcess, self).__init__(x0, maturity)\n",
    "        assert(isinstance(Vol, VolTermStructure))\n",
    "        self.VolTermStructure = Vol\n",
    "        if isinstance(Rate, YieldTermStructure):\n",
    "            self.YieldTermStructure = YieldFlat(Rate.zeroRate(self.maturity))\n",
    "        else:\n",
    "            self.YieldTermStructure = YieldFlat(Rate)\n",
    "    def drift(self, t, x):\n",
    "        return self.YieldTermStructure.zeroRate(t)*x\n",
    "    def diffusion(self, t, x):\n",
    "        return self.VolTermStructure.localVol(t, x)*x"
   ]
  },
  {
   "cell_type": "code",
   "execution_count": 18,
   "metadata": {},
   "outputs": [],
   "source": [
    "class GBMProcess(LocalVolProcess):\n",
    "    def __init__(self, x0, maturity, Vol, Rate):\n",
    "        '''\n",
    "            Vol: scalar or VolFlat class\n",
    "            Rate: scalar or YieldTermStructure class\n",
    "        '''\n",
    "        if isinstance(Vol, VolTermStructure):\n",
    "            assert(isinstance(Vol, VolFlat))\n",
    "        else:\n",
    "            Vol = VolFlat(Vol)\n",
    "        super(GBMProcess, self).__init__(x0, maturity, Vol, Rate)"
   ]
  },
  {
   "cell_type": "code",
   "execution_count": 19,
   "metadata": {},
   "outputs": [],
   "source": [
    "class LocalVolQuantoProcess(LocalVolProcess):\n",
    "    def __init__(self, x0, maturity, VolForeign, Rate, VolFX, CorrFX):\n",
    "        '''\n",
    "            VolForeign: foreign vol term structure, VolTermStructure class\n",
    "            Rate: scalar or YieldTermStructure class\n",
    "            VolFX: FX vol, scalar or VolFlat class\n",
    "            CorrFX: Equity-FX correlation, scalar or CorrFlat class\n",
    "        '''\n",
    "        super(LocalVolQuantoProcess, self).__init__(x0, maturity, VolForeign, Rate)\n",
    "        if isinstance(VolFX, VolTermStructure):\n",
    "            assert(isinstance(VolFX, VolFlat))\n",
    "            self.volFX = VolFX.vol\n",
    "        else:\n",
    "            self.volFX = VolFX\n",
    "        if isinstance(CorrFX, CorrTermStructure):\n",
    "            assert(isinstance(CorrFX, CorrFlat))\n",
    "            self.corr = CorrFX.corr\n",
    "        else:\n",
    "            self.corr = CorrFX\n",
    "    def drift(self, t, x):\n",
    "        return super(LocalVolQuantoProcess, self).drift(t, x) - self.corr*self.volFX*self.diffusion(t, x)"
   ]
  },
  {
   "cell_type": "code",
   "execution_count": 20,
   "metadata": {},
   "outputs": [],
   "source": [
    "class GBMQuantoProcess(LocalVolQuantoProcess):\n",
    "    def __init__(self, x0, maturity, VolForeign, Rate, VolFX, CorrFX):\n",
    "        if isinstance(VolForeign, VolTermStructure):\n",
    "            assert(isinstance(VolForeign, VolFlat))\n",
    "        else:\n",
    "            VolForeign = VolFlat(VolForeign)\n",
    "        super(GBMQuantoProcess, self).__init__(x0, maturity, VolForeign, Rate, VolFX, CorrFX)"
   ]
  },
  {
   "cell_type": "code",
   "execution_count": 21,
   "metadata": {
    "scrolled": true
   },
   "outputs": [],
   "source": [
    "class HullWhiteRateProcess(StochasticProcess):\n",
    "    def __init__(self, maturity, Rate, alpha, Vol):\n",
    "        if isinstance(Rate, YieldTermStructure):\n",
    "            self.YieldTermStructure = Rate\n",
    "        else:\n",
    "            self.YieldTermStructure = YieldFlat(Rate)\n",
    "        self.alpha = alpha\n",
    "        x0 = self.YieldTermStructure.instantaneousForwardRate(0)\n",
    "        super(HullWhiteRateProcess, self).__init__(x0, maturity)\n",
    "        if isinstance(Vol, VolTermStructure):\n",
    "            assert(isinstance(Vol, VolFlat))\n",
    "            self.vol = Vol.vol\n",
    "        else:\n",
    "            self.vol = Vol\n",
    "        \n",
    "    def theta(self, t):\n",
    "        return self.alpha*self.YieldTermStructure.instantaneousForwardRate(t) +\\\n",
    "        self.YieldTermStructure.instantaneousForwardRatePrime(t) + self.vol**2/2/self.alpha*(1-np.exp(-2*self.alpha*t))\n",
    "    def drift(self, t, x):\n",
    "        return self.theta(t) - self.alpha*x\n",
    "    def diffusion(self, t, x):\n",
    "        return np.full_like(x, self.vol, dtype=np.float)\n",
    "    def Bond(self, t, T, rate):\n",
    "        def B(t, T):\n",
    "            return 1/self.alpha*(1-np.exp(-self.alpha*(T-t)))\n",
    "        def A(t, T):\n",
    "            func = lambda s : 0.5*self.vol**2*B(s, T)**2-self.theta(s)*B(s, T)\n",
    "            return integrate.quad(func, t, T)[0]\n",
    "        return np.exp(A(t, T)-B(t, T)*rate)\n",
    "    def BondVol(self, t, T):\n",
    "        return -self.vol*(1-np.exp(-self.alpha*(T-t)))/self.alpha\n",
    "    def BondOption(self, T1, T2, strike, callput):\n",
    "        zcb1 = self.YieldTermStructure.discount(T1)\n",
    "        zcb2 = self.YieldTermStructure.discount(T2)\n",
    "        S = zcb2/zcb1\n",
    "        vol = (1-np.exp(-self.alpha*(T2-T1)))/self.alpha/np.sqrt(T1) *\\\n",
    "            np.sqrt((self.vol**2)/(2*self.alpha)*(1-np.exp(-2*self.alpha*T1)))\n",
    "        return zcb1*blackscholes_price(K=strike, T=T1, S=S, vol=vol, callput=callput)\n",
    "    def Libor(self, t, T, rate):\n",
    "        bond = self.Bond(t, T, rate)\n",
    "        return (1-bond)/(T-t)/bond"
   ]
  },
  {
   "cell_type": "code",
   "execution_count": 22,
   "metadata": {},
   "outputs": [],
   "source": [
    "class HullWhiteRateForwardProcess(HullWhiteRateProcess):\n",
    "    def __init__(self, maturity, Rate, alpha, Vol):\n",
    "        super(HullWhiteRateForwardProcess, self).__init__(maturity, Rate, alpha, Vol)\n",
    "    def drift(self, t, x):\n",
    "        return super(HullWhiteRateForwardProcess, self).drift(t, x) + self.diffusion(t, x)*self.BondVol(t, self.maturity)"
   ]
  },
  {
   "cell_type": "markdown",
   "metadata": {},
   "source": [
    "#### ND Stochastic Process"
   ]
  },
  {
   "cell_type": "code",
   "execution_count": 23,
   "metadata": {},
   "outputs": [],
   "source": [
    "class StochasticProcessND(StochasticProcess):\n",
    "    def __init__(self, processes):\n",
    "        x0 = np.array([process.x0 for process in processes])\n",
    "        super(StochasticProcessND, self).__init__(x0, processes[0].maturity)\n",
    "        self.processes = processes\n",
    "        self.dim = len(processes)\n",
    "    def drift(self, t, x):\n",
    "        return np.array([self.processes[i].drift(t, x[:, i]) for i in range(self.dim)]).T\n",
    "    def diffusion(self, t, x):\n",
    "        return np.array([self.processes[i].diffusion(t, x[:, i]) for i in range(self.dim)]).T\n",
    "    @abstractmethod\n",
    "    def evolve(self, t, x, dt, dW, C):\n",
    "        dW_ = np.matmul(dW, C.T)\n",
    "        return super(StochasticProcessND, self).evolve(t, x, dt, dW_)"
   ]
  },
  {
   "cell_type": "code",
   "execution_count": 24,
   "metadata": {},
   "outputs": [],
   "source": [
    "class StochasticProcess2DFlatCorr(StochasticProcessND):\n",
    "    def __init__(self, processes, corr):\n",
    "        assert(len(processes)==2)\n",
    "        super(StochasticProcess2DFlatCorr, self).__init__(processes)\n",
    "        self.corr = corr\n",
    "        self.C = np.array([[1, 0], [self.corr, np.sqrt(1-self.corr**2)]])\n",
    "    def evolve(self, t, x, dt, dW):\n",
    "        return super(StochasticProcess2DFlatCorr, self).evolve(t, x, dt, dW, self.C)"
   ]
  },
  {
   "cell_type": "code",
   "execution_count": 25,
   "metadata": {},
   "outputs": [],
   "source": [
    "class EquityQuantoHullWhiteRateHybridProcess(StochasticProcess2DFlatCorr):\n",
    "    def __init__(self, processes, corr):\n",
    "        assert(isinstance(processes[0], LocalVolQuantoProcess))\n",
    "        assert(isinstance(processes[1], HullWhiteRateProcess))\n",
    "        super(EquityQuantoHullWhiteRateHybridProcess, self).__init__(processes, corr)"
   ]
  },
  {
   "cell_type": "code",
   "execution_count": 26,
   "metadata": {},
   "outputs": [],
   "source": [
    "class EquityQuantoHullWhiteRateHybridForwardProcess(EquityQuantoHullWhiteRateHybridProcess):\n",
    "    def __init__(self, processes, corr):\n",
    "        super(EquityQuantoHullWhiteRateHybridForwardProcess, self).__init__(processes, corr)\n",
    "    def drift(self, t, x):\n",
    "        BondVol = self.processes[1].BondVol(t, self.maturity)\n",
    "        drift0 = super(EquityQuantoHullWhiteRateHybridForwardProcess, self).drift(t, x)\n",
    "        drift1 = BondVol*self.diffusion(t, x)*np.array([[self.corr, 1]])\n",
    "#         np.array([self.corr*self.processes[0].diffusion(t, x[:, 0]),\n",
    "#                                    (self.corr+np.sqrt(1-self.corr**2))*self.processes[1].diffusion(t, x[:, 1])]).T\n",
    "        return drift0 + drift1"
   ]
  },
  {
   "cell_type": "markdown",
   "metadata": {},
   "source": [
    "### Analytical Engine"
   ]
  },
  {
   "cell_type": "code",
   "execution_count": 27,
   "metadata": {},
   "outputs": [],
   "source": [
    "class OptionAnalyticalEngine(metaclass=ABCMeta):\n",
    "    def __init__(self, process):\n",
    "        self.process = process\n",
    "    @abstractmethod\n",
    "    def pricing(self, option):\n",
    "        raise NotImplementedError()"
   ]
  },
  {
   "cell_type": "code",
   "execution_count": 28,
   "metadata": {},
   "outputs": [],
   "source": [
    "class VanillaEuropeanAnalyticalEngine(OptionAnalyticalEngine):\n",
    "    def __init__(self, process):\n",
    "        super(VanillaEuropeanAnalyticalEngine, self).__init__(process)\n",
    "    def pricing(self, option):\n",
    "        assert(isinstance(option, VanillaEuropeanOption))\n",
    "        K = option.strike\n",
    "        T = option.maturity\n",
    "        S = self.process.x0\n",
    "        r = self.process.YieldTermStructure.zeroRate(T)\n",
    "        if option.strikeType == 'abs':\n",
    "            vol = self.process.VolTermStructure.impliedVol(T, K)\n",
    "            return blackscholes_price(K=K, T=T, S=S, vol=vol, r=r, callput=option.callput)\n",
    "        else:\n",
    "            vol = self.process.VolTermStructure.impliedVol(T, K*S)\n",
    "            return blackscholes_price(K=K*S, T=T, S=S, vol=vol, r=r, callput=option.callput)/S"
   ]
  },
  {
   "cell_type": "code",
   "execution_count": 29,
   "metadata": {},
   "outputs": [],
   "source": [
    "class VanillaRateHullWhiteAnalyticalEngine(OptionAnalyticalEngine):\n",
    "    def __init__(self, process):\n",
    "        assert(isinstance(process, HullWhiteRateProcess))\n",
    "        super(VanillaRateHullWhiteAnalyticalEngine, self).__init__(process)\n",
    "    def pricing(self, option):\n",
    "        assert(isinstance(option, VanillaCapFloorlet))\n",
    "        T1 = option.fixingDate\n",
    "        T2 = option.maturity\n",
    "        libor0 = self.process.YieldTermStructure.forwardRateSimple(T1, T2)\n",
    "        strike = option.strike\n",
    "        callput = 'put' if option.capfloor=='cap' else 'call'\n",
    "        if option.strikeType=='abs':\n",
    "            return (1+(T2-T1)*strike)*self.process.BondOption(T1, T2, strike=1/(1+(T2-T1)*strike), callput=callput)/(T2-T1)\n",
    "        else:\n",
    "            return (1+(T2-T1)*(strike*libor0))*self.process.BondOption(T1, T2, strike=1/(1+(T2-T1)*(strike*libor0)), callput=callput)/libor0/(T2-T1)"
   ]
  },
  {
   "cell_type": "markdown",
   "metadata": {},
   "source": [
    "### Monte Carlo Engine"
   ]
  },
  {
   "cell_type": "code",
   "execution_count": 30,
   "metadata": {},
   "outputs": [],
   "source": [
    "class OptionMCEngine(metaclass=ABCMeta):\n",
    "    def __init__(self, process, stepPerYear, samplesize):\n",
    "        self.process = process\n",
    "        self.stepPerYear = stepPerYear\n",
    "        self.dt = 1/stepPerYear\n",
    "        self.samplesize = samplesize\n",
    "    \n",
    "    def PathGenerator(self, option, seed=12345, antithetic=True):\n",
    "        paths = np.full((self.samplesize, int(option.maturity*self.stepPerYear)+1), np.nan) if self.process.dim==1 \\\n",
    "            else np.full((self.samplesize, int(option.maturity*self.stepPerYear)+1, self.process.dim), np.nan)\n",
    "        paths[:, 0] = self.process.x0 if self.process.dim==1 else np.tile(self.process.x0, (self.samplesize, 1))\n",
    "        for i in range(1, paths.shape[1]):\n",
    "            dW = np.random.randn(int(self.samplesize/2)) if self.process.dim==1 else np.random.randn(int(self.samplesize/2), self.process.dim)\n",
    "            dW = np.hstack([dW, -dW]) if self.process.dim==1 else np.vstack([dW, -dW])\n",
    "            paths[:, i] = paths[:, i-1] + self.process.evolve(i*self.dt, paths[:, i-1], self.dt, dW)\n",
    "        return paths\n",
    "    \n",
    "    @abstractmethod\n",
    "    def PathPricer(self, paths, option):\n",
    "        raise NotImplementedError()\n",
    "    @abstractmethod\n",
    "    def PathDiscount(self, paths, option):\n",
    "        raise NotImplementedError()\n",
    "    \n",
    "    def pricing(self, option, seed=12345, antithetic=True):\n",
    "        assert(self.process.maturity==option.maturity)\n",
    "        paths = self.PathGenerator(option, seed)\n",
    "        payoff = self.PathPricer(paths, option)\n",
    "        discount = self.PathDiscount(paths, option)\n",
    "        price = np.mean(discount*payoff)\n",
    "        return price"
   ]
  },
  {
   "cell_type": "code",
   "execution_count": 31,
   "metadata": {},
   "outputs": [],
   "source": [
    "class VanillaEuropeanMCEngine(OptionMCEngine):\n",
    "    def __init__(self, process, stepPerYear, samplesize):\n",
    "        super(VanillaEuropeanMCEngine, self).__init__(process, stepPerYear, samplesize)\n",
    "    def PathPricer(self, paths, option):\n",
    "        if option.strikeType == 'abs':\n",
    "            return option.payoff(paths[:, -1])\n",
    "        else:\n",
    "            return option.payoff(paths[:, -1]/paths[:, 0])\n",
    "    def PathDiscount(self, paths, option):\n",
    "        T = option.maturity\n",
    "        r = self.process.YieldTermStructure.zeroRate(T)\n",
    "        return np.exp(-r*T)"
   ]
  },
  {
   "cell_type": "code",
   "execution_count": 32,
   "metadata": {},
   "outputs": [],
   "source": [
    "class VanillaRateHullWhiteSemiMCEngine(OptionMCEngine):\n",
    "    def __init__(self, process, stepPerYear, samplesize):\n",
    "        super(VanillaRateHullWhiteSemiMCEngine, self).__init__(process, stepPerYear, samplesize)\n",
    "    def PathPricer(self, paths, option):\n",
    "        T1 = option.fixingDate\n",
    "        T2 = option.maturity\n",
    "        libor0 = self.process.YieldTermStructure.forwardRateSimple(T1, T2)\n",
    "        idx = int(paths.shape[1]*T1/T2)\n",
    "        libor = self.process.Libor(T1, T2, paths[:, idx])\n",
    "        if option.strikeType=='abs':\n",
    "            return option.payoff(libor)\n",
    "        else:\n",
    "            return option.payoff(libor/libor0)\n",
    "    def PathDiscount(self, paths, option):\n",
    "        return np.exp(-np.sum(paths, axis=1)*self.dt)"
   ]
  },
  {
   "cell_type": "code",
   "execution_count": 33,
   "metadata": {},
   "outputs": [],
   "source": [
    "class VanillaRateHullWhiteForwardSemiMCEngine(VanillaRateHullWhiteSemiMCEngine):\n",
    "    def __init__(self, process, stepPerYear, samplesize):\n",
    "        super(VanillaRateHullWhiteForwardSemiMCEngine, self).__init__(process, stepPerYear, samplesize)\n",
    "    def PathDiscount(self, paths, option):\n",
    "        T2 = option.maturity\n",
    "        return self.process.Bond(0, T2, self.process.x0)"
   ]
  },
  {
   "cell_type": "code",
   "execution_count": 34,
   "metadata": {},
   "outputs": [],
   "source": [
    "class HybridMCEngine(OptionMCEngine):\n",
    "    def __init__(self, process, stepPerYear, samplesize):\n",
    "        super(HybridMCEngine, self).__init__(process, stepPerYear, samplesize)\n",
    "    def PathPricer(self, paths, option):\n",
    "        T1 = option.fixingDate\n",
    "        T2 = option.maturity\n",
    "        idx = int(paths.shape[1]*T1/T2)\n",
    "        libor = self.process.processes[1].Libor(T1, T2, paths[:, idx, 1])\n",
    "        libor0 = self.process.processes[1].YieldTermStructure.forwardRateSimple(T1, T2)\n",
    "        if option.strikeType=='abs':\n",
    "            return option.payoff(paths[:, -1, 0], libor)\n",
    "        else:\n",
    "            return option.payoff(paths[:, -1, 0]/paths[:, 0, 0], libor/libor0)\n",
    "    def PathDiscount(self, paths, option):\n",
    "        return np.exp(-np.sum(paths[:, :, 1], axis=1)*self.dt)"
   ]
  },
  {
   "cell_type": "code",
   "execution_count": 35,
   "metadata": {},
   "outputs": [],
   "source": [
    "class HybridForwardMCEngine(HybridMCEngine):\n",
    "    def __init__(self, process, stepPerYear, samplesize):\n",
    "        super(HybridForwardMCEngine, self).__init__(process, stepPerYear, samplesize)\n",
    "    def PathDiscount(self, paths, option):\n",
    "        T2 = option.maturity\n",
    "        return self.process.processes[1].Bond(0, T2, self.process.x0[1])"
   ]
  },
  {
   "cell_type": "markdown",
   "metadata": {},
   "source": [
    "# Data Processing"
   ]
  },
  {
   "cell_type": "code",
   "execution_count": 36,
   "metadata": {},
   "outputs": [],
   "source": [
    "data_price = pd.read_excel(\"data.xlsx\",sheet_name = \"last_price\",index_col=0)\n",
    "data_return = data_price.pct_change(-1)\n",
    "data_return['SX53'] = np.log(data_price.SX53.shift(-1)) - np.log(data_price.SX53)\n",
    "data_return['USDEUR'] = np.log(data_price.USDEUR.shift(-1)) - np.log(data_price.USDEUR)\n",
    "data_return[\"US0003M\"]= data_price[\"US0003M\"].diff(-1)"
   ]
  },
  {
   "cell_type": "markdown",
   "metadata": {},
   "source": [
    "## Yield Curve"
   ]
  },
  {
   "cell_type": "markdown",
   "metadata": {},
   "source": [
    "### Domestic Yield Curve"
   ]
  },
  {
   "cell_type": "code",
   "execution_count": 37,
   "metadata": {},
   "outputs": [],
   "source": [
    "data_yc = pd.read_excel(\"data.xlsx\", sheet_name=\"yield_curve\", index_col=0)\n",
    "tenor_yc = np.array([1/12, 2/12, 3/12, 6/12, 1, 2, 3, 5, 7, 10, 30])\n",
    "rate_yc = np.array(data_yc.loc[\"11/15/2019\"])/100\n",
    "YieldDomestic = YieldCurve(tenor_yc, rate_yc)"
   ]
  },
  {
   "cell_type": "markdown",
   "metadata": {},
   "source": [
    "### Foreign Yield Curve"
   ]
  },
  {
   "cell_type": "code",
   "execution_count": 38,
   "metadata": {},
   "outputs": [
    {
     "data": {
      "text/plain": [
       "array([0.0255039 , 0.01947867, 0.02126555, 0.04274242, 0.0359186 ,\n",
       "       0.0374459 , 0.03532117])"
      ]
     },
     "execution_count": 38,
     "metadata": {},
     "output_type": "execute_result"
    }
   ],
   "source": [
    "spot = float(data_price.loc[\"2019-11-15\"][\"SX53\"])\n",
    "data_fwd = np.array(pd.read_excel(\"data.xlsx\",sheet_name = \"imp_fwd\",index_col=0))[:, 0]\n",
    "tenor_fwd = np.array([1/12, 2/12, 3/12, 6/12, 1, 1.5, 2])\n",
    "data_ycF = -np.log(data_fwd/spot)/tenor_fwd\n",
    "data_ycF"
   ]
  },
  {
   "cell_type": "code",
   "execution_count": 39,
   "metadata": {},
   "outputs": [],
   "source": [
    "YieldForeign = YieldFlat(data_ycF[0])"
   ]
  },
  {
   "cell_type": "markdown",
   "metadata": {},
   "source": [
    "## Vol Surface"
   ]
  },
  {
   "cell_type": "markdown",
   "metadata": {},
   "source": [
    "### Equity Vol"
   ]
  },
  {
   "cell_type": "code",
   "execution_count": 40,
   "metadata": {},
   "outputs": [],
   "source": [
    "data_volF = pd.read_excel(\"data.xlsx\", sheet_name=\"1115vol_surface\")\n",
    "tenor_volF = np.array([1/12, 2/12, 3/12, 6/12, 1, 1.5, 2])\n",
    "moneyness_volF = np.array(data_volF.columns[2:], dtype=np.float)\n",
    "strike_volF = spot*moneyness_volF\n",
    "\n",
    "bid_volF = np.array(np.array(data_volF.loc[data_volF[\"Type\"]==\"B\"])[:,2:]/100, dtype=np.float)\n",
    "ask_volF = np.array(np.array(data_volF.loc[data_volF[\"Type\"]==\"A\"])[:,2:]/100, dtype=np.float)\n",
    "mid_volF = np.array(np.array(data_volF.loc[data_volF[\"Type\"]==\"M\"])[:,2:]/100, dtype=np.float)\n"
   ]
  },
  {
   "cell_type": "code",
   "execution_count": 41,
   "metadata": {
    "scrolled": true
   },
   "outputs": [
    {
     "name": "stdout",
     "output_type": "stream",
     "text": [
      "Optimization terminated successfully.    (Exit mode 0)\n",
      "            Current function value: 0.00010173012492922902\n",
      "            Iterations: 18\n",
      "            Function evaluations: 90\n",
      "            Gradient evaluations: 18\n"
     ]
    }
   ],
   "source": [
    "VolForeign = VolSSVI(tenor=tenor_volF, strike=strike_volF, spot=spot, iv=mid_volF, Rate=YieldForeign, type='Power')"
   ]
  },
  {
   "cell_type": "markdown",
   "metadata": {},
   "source": [
    "### Rate Vol"
   ]
  },
  {
   "cell_type": "code",
   "execution_count": 42,
   "metadata": {},
   "outputs": [],
   "source": [
    "data_volR = pd.read_excel(\"data.xlsx\",sheet_name = \"cap_vol\")\n",
    "mid_volR = float(data_volR.loc[(data_volR[\"Type\"]==\"Vol\")& (data_volR[\"Expiry\"]==\"1Y\"),\"ATM\"])\n",
    "strike_volR = float(data_volR.loc[(data_volR[\"Type\"]==\"Strike\")& (data_volR[\"Expiry\"]==\"1Y\"),\"ATM\"])"
   ]
  },
  {
   "cell_type": "markdown",
   "metadata": {},
   "source": [
    "### FX Vol"
   ]
  },
  {
   "cell_type": "code",
   "execution_count": 43,
   "metadata": {},
   "outputs": [],
   "source": [
    "volFX = np.std(np.array(data_return.iloc[2], dtype=np.float))\n",
    "VolFX = VolFlat(volFX)"
   ]
  },
  {
   "cell_type": "code",
   "execution_count": null,
   "metadata": {},
   "outputs": [],
   "source": []
  },
  {
   "cell_type": "markdown",
   "metadata": {},
   "source": [
    "## Correlation Structure"
   ]
  },
  {
   "cell_type": "code",
   "execution_count": 44,
   "metadata": {},
   "outputs": [
    {
     "data": {
      "text/html": [
       "<div>\n",
       "<style scoped>\n",
       "    .dataframe tbody tr th:only-of-type {\n",
       "        vertical-align: middle;\n",
       "    }\n",
       "\n",
       "    .dataframe tbody tr th {\n",
       "        vertical-align: top;\n",
       "    }\n",
       "\n",
       "    .dataframe thead th {\n",
       "        text-align: right;\n",
       "    }\n",
       "</style>\n",
       "<table border=\"1\" class=\"dataframe\">\n",
       "  <thead>\n",
       "    <tr style=\"text-align: right;\">\n",
       "      <th></th>\n",
       "      <th>SX53</th>\n",
       "      <th>US0003M</th>\n",
       "      <th>USDEUR</th>\n",
       "    </tr>\n",
       "  </thead>\n",
       "  <tbody>\n",
       "    <tr>\n",
       "      <th>SX53</th>\n",
       "      <td>1.000000</td>\n",
       "      <td>-0.114403</td>\n",
       "      <td>0.055304</td>\n",
       "    </tr>\n",
       "    <tr>\n",
       "      <th>US0003M</th>\n",
       "      <td>-0.114403</td>\n",
       "      <td>1.000000</td>\n",
       "      <td>-0.003324</td>\n",
       "    </tr>\n",
       "    <tr>\n",
       "      <th>USDEUR</th>\n",
       "      <td>0.055304</td>\n",
       "      <td>-0.003324</td>\n",
       "      <td>1.000000</td>\n",
       "    </tr>\n",
       "  </tbody>\n",
       "</table>\n",
       "</div>"
      ],
      "text/plain": [
       "             SX53   US0003M    USDEUR\n",
       "SX53     1.000000 -0.114403  0.055304\n",
       "US0003M -0.114403  1.000000 -0.003324\n",
       "USDEUR   0.055304 -0.003324  1.000000"
      ]
     },
     "execution_count": 44,
     "metadata": {},
     "output_type": "execute_result"
    }
   ],
   "source": [
    "corr_table = data_return.corr()\n",
    "corr_table"
   ]
  },
  {
   "cell_type": "code",
   "execution_count": 45,
   "metadata": {},
   "outputs": [],
   "source": [
    "CorrFX = CorrFlat(corr_table.iloc[0, 2])\n",
    "CorrRate = CorrFlat(corr_table.iloc[0, 1])"
   ]
  },
  {
   "cell_type": "markdown",
   "metadata": {},
   "source": [
    "# Sanity Check"
   ]
  },
  {
   "cell_type": "markdown",
   "metadata": {},
   "source": [
    "## Vol Surface"
   ]
  },
  {
   "cell_type": "code",
   "execution_count": 46,
   "metadata": {},
   "outputs": [],
   "source": [
    "tenor = np.array([1/12, 2/12, 3/12, 6/12, 1, 1.5, 2])\n",
    "spot = 3711.61\n",
    "strike = spot*np.array([0.8, 0.85, 0.9, 0.95, 0.985, 1, 1.025, 1.05, 1.1, 1.15, 1.2])"
   ]
  },
  {
   "cell_type": "code",
   "execution_count": 47,
   "metadata": {},
   "outputs": [],
   "source": [
    "Y, X = np.meshgrid(strike, tenor)\n",
    "Z1 = np.array([VolForeign.impliedVol(T=t, K=strike) for t in tenor])\n",
    "Z2 = np.array([VolForeign.localVol(T=t, K=strike) for t in tenor])\n",
    "Z3 = VolForeign.iv"
   ]
  },
  {
   "cell_type": "code",
   "execution_count": 48,
   "metadata": {},
   "outputs": [
    {
     "data": {
      "text/plain": [
       "Text(0.5, 0.92, 'SSVI Local Vol Surface')"
      ]
     },
     "execution_count": 48,
     "metadata": {},
     "output_type": "execute_result"
    },
    {
     "data": {
      "image/png": "[encoded data removed]",
      "text/plain": [
       "<Figure size 720x288 with 3 Axes>"
      ]
     },
     "metadata": {
      "needs_background": "light"
     },
     "output_type": "display_data"
    }
   ],
   "source": [
    "fig = plt.figure(figsize=(10, 4))\n",
    "ax1 = fig.add_subplot(131, projection='3d')\n",
    "ax2 = fig.add_subplot(132, projection='3d')\n",
    "ax3 = fig.add_subplot(133, projection='3d')\n",
    "\n",
    "ax1.plot_surface(X, Y, Z1, cmap=cm.coolwarm, linewidth=0, antialiased=False)\n",
    "ax2.plot_surface(X, Y, Z3, cmap=cm.coolwarm, linewidth=0, antialiased=False)\n",
    "ax3.plot_surface(X, Y, Z2, cmap=cm.coolwarm, linewidth=0, antialiased=False)\n",
    "#ax.scatter(X, Y, iv.T, cmap=cm.coolwarm, linewidth=0, antialiased=False)\n",
    "ax1.view_init(elev=20, azim=50)\n",
    "ax2.view_init(elev=20, azim=50)\n",
    "ax3.view_init(elev=20, azim=50)\n",
    "ax1.set_title('SSVI Surface')\n",
    "ax2.set_title('Market Surface')\n",
    "ax3.set_title('SSVI Local Vol Surface')"
   ]
  },
  {
   "cell_type": "markdown",
   "metadata": {},
   "source": [
    "## Engine Check"
   ]
  },
  {
   "cell_type": "markdown",
   "metadata": {},
   "source": [
    "### Vanilla Euripean Analytical v.s. MC"
   ]
  },
  {
   "cell_type": "code",
   "execution_count": 49,
   "metadata": {},
   "outputs": [],
   "source": [
    "EuropeanTest = VanillaEuropeanOption(strike=spot, maturity=1, strikeType='abs', callput='call')\n",
    "#GBM = GBMProcess(x0=100, maturity=1, Vol=0.4, Rate=Test)\n",
    "LocalVol = LocalVolProcess(x0=spot, maturity=1, Vol=VolForeign, Rate=YieldForeign)"
   ]
  },
  {
   "cell_type": "code",
   "execution_count": 50,
   "metadata": {
    "scrolled": true
   },
   "outputs": [
    {
     "data": {
      "text/plain": [
       "255.52416283215467"
      ]
     },
     "execution_count": 50,
     "metadata": {},
     "output_type": "execute_result"
    }
   ],
   "source": [
    "EngineAL = VanillaEuropeanAnalyticalEngine(LocalVol)\n",
    "EuropeanTest.setEngine(EngineAL)\n",
    "EuropeanTest.pricing()"
   ]
  },
  {
   "cell_type": "code",
   "execution_count": 51,
   "metadata": {
    "scrolled": false
   },
   "outputs": [
    {
     "data": {
      "text/plain": [
       "255.7450150574015"
      ]
     },
     "execution_count": 51,
     "metadata": {},
     "output_type": "execute_result"
    }
   ],
   "source": [
    "EngineMC = VanillaEuropeanMCEngine(LocalVol, stepPerYear=252, samplesize=1000000)\n",
    "EuropeanTest.setEngine(EngineMC)\n",
    "EuropeanTest.pricing()"
   ]
  },
  {
   "cell_type": "markdown",
   "metadata": {},
   "source": [
    "### Quanto"
   ]
  },
  {
   "cell_type": "code",
   "execution_count": 52,
   "metadata": {},
   "outputs": [],
   "source": [
    "QuantoTest = VanillaEuropeanOption(strike=spot, maturity=1, strikeType='abs', callput='call')\n",
    "QuantoProcess = LocalVolQuantoProcess(x0=spot, maturity=1, VolForeign=VolForeign, Rate=YieldForeign,\n",
    "                                      VolFX=VolFX, CorrFX=CorrFX)"
   ]
  },
  {
   "cell_type": "code",
   "execution_count": 53,
   "metadata": {
    "scrolled": true
   },
   "outputs": [
    {
     "data": {
      "text/plain": [
       "255.58345687007704"
      ]
     },
     "execution_count": 53,
     "metadata": {},
     "output_type": "execute_result"
    }
   ],
   "source": [
    "EngineMC = VanillaEuropeanMCEngine(QuantoProcess, stepPerYear=252, samplesize=1000000)\n",
    "QuantoTest.setEngine(EngineMC)\n",
    "QuantoTest.pricing()"
   ]
  },
  {
   "cell_type": "markdown",
   "metadata": {},
   "source": [
    "### Vanilla Rate Cap/Floor Analytical v.s. Semi MC"
   ]
  },
  {
   "cell_type": "code",
   "execution_count": 54,
   "metadata": {
    "scrolled": true
   },
   "outputs": [],
   "source": [
    "CapTest = VanillaCapFloorlet(maturity=1, fixingDate=0.75, strike=1, strikeType='per')"
   ]
  },
  {
   "cell_type": "code",
   "execution_count": 55,
   "metadata": {
    "scrolled": true
   },
   "outputs": [
    {
     "data": {
      "text/plain": [
       "0.005481852391869341"
      ]
     },
     "execution_count": 55,
     "metadata": {},
     "output_type": "execute_result"
    }
   ],
   "source": [
    "alpha = 0.03\n",
    "HWVol = CapletVoltoHullWhileVol(K=YieldDomestic.forwardRateSimple(0.75, 1), T1=0.75, T2=1, \n",
    "                                YieldCurve=YieldDomestic, vol=0.3587, alpha=alpha, capfloor='cap')\n",
    "HWVol"
   ]
  },
  {
   "cell_type": "code",
   "execution_count": 56,
   "metadata": {},
   "outputs": [],
   "source": [
    "HW = HullWhiteRateProcess(maturity=1, Rate=YieldDomestic, alpha=alpha, Vol=HWVol)"
   ]
  },
  {
   "cell_type": "code",
   "execution_count": 57,
   "metadata": {
    "scrolled": true
   },
   "outputs": [
    {
     "data": {
      "text/plain": [
       "0.12154231503956098"
      ]
     },
     "execution_count": 57,
     "metadata": {},
     "output_type": "execute_result"
    }
   ],
   "source": [
    "EngineAL = VanillaRateHullWhiteAnalyticalEngine(HW)\n",
    "CapTest.setEngine(EngineAL)\n",
    "CapTest.pricing()"
   ]
  },
  {
   "cell_type": "code",
   "execution_count": 58,
   "metadata": {
    "scrolled": false
   },
   "outputs": [
    {
     "data": {
      "text/plain": [
       "0.12133284440648723"
      ]
     },
     "execution_count": 58,
     "metadata": {},
     "output_type": "execute_result"
    }
   ],
   "source": [
    "EngineSemiMC = VanillaRateHullWhiteSemiMCEngine(HW, stepPerYear=252, samplesize=1000000)\n",
    "CapTest.setEngine(EngineSemiMC)\n",
    "CapTest.pricing()"
   ]
  },
  {
   "cell_type": "code",
   "execution_count": 59,
   "metadata": {},
   "outputs": [],
   "source": [
    "HWForward = HullWhiteRateForwardProcess(maturity=1, Rate=YieldDomestic, alpha=alpha, Vol=HWVol)"
   ]
  },
  {
   "cell_type": "code",
   "execution_count": 60,
   "metadata": {},
   "outputs": [
    {
     "data": {
      "text/plain": [
       "0.12139691381930996"
      ]
     },
     "execution_count": 60,
     "metadata": {},
     "output_type": "execute_result"
    }
   ],
   "source": [
    "EngineSemiMC = VanillaRateHullWhiteForwardSemiMCEngine(HWForward, stepPerYear=252, samplesize=1000000)\n",
    "CapTest.setEngine(EngineSemiMC)\n",
    "CapTest.pricing()"
   ]
  },
  {
   "cell_type": "markdown",
   "metadata": {},
   "source": [
    "# Hybrid Pricing with Fixed Correlation"
   ]
  },
  {
   "cell_type": "code",
   "execution_count": 61,
   "metadata": {},
   "outputs": [],
   "source": [
    "Hybrid = HybridProduct(strikeEquity=1, strikeRate=1, maturity=1, fixingDate=0.75, strikeType='per')\n",
    "HybridProcess = EquityQuantoHullWhiteRateHybridProcess([QuantoProcess, HW], corr=CorrRate.corr)\n",
    "MCEngine = HybridMCEngine(HybridProcess, stepPerYear=252, samplesize=1000000)"
   ]
  },
  {
   "cell_type": "code",
   "execution_count": 62,
   "metadata": {
    "scrolled": true
   },
   "outputs": [
    {
     "data": {
      "text/plain": [
       "0.012026914921410732"
      ]
     },
     "execution_count": 62,
     "metadata": {},
     "output_type": "execute_result"
    }
   ],
   "source": [
    "Hybrid.setEngine(MCEngine)\n",
    "Hybrid.pricing()"
   ]
  },
  {
   "cell_type": "code",
   "execution_count": 63,
   "metadata": {},
   "outputs": [],
   "source": [
    "HybridForwardProcess = EquityQuantoHullWhiteRateHybridForwardProcess([QuantoProcess, HW], corr=CorrRate.corr)\n",
    "MCEngine = HybridForwardMCEngine(HybridForwardProcess, stepPerYear=252, samplesize=1000000)"
   ]
  },
  {
   "cell_type": "code",
   "execution_count": 64,
   "metadata": {},
   "outputs": [
    {
     "data": {
      "text/plain": [
       "0.012050560226275995"
      ]
     },
     "execution_count": 64,
     "metadata": {},
     "output_type": "execute_result"
    }
   ],
   "source": [
    "Hybrid.setEngine(MCEngine)\n",
    "Hybrid.pricing()"
   ]
  },
  {
   "cell_type": "code",
   "execution_count": null,
   "metadata": {},
   "outputs": [],
   "source": []
  }
 ],
 "metadata": {
  "kernelspec": {
   "display_name": "Python 3",
   "language": "python",
   "name": "python3"
  },
  "language_info": {
   "codemirror_mode": {
    "name": "ipython",
    "version": 3
   },
   "file_extension": ".py",
   "mimetype": "text/x-python",
   "name": "python",
   "nbconvert_exporter": "python",
   "pygments_lexer": "ipython3",
   "version": "3.6.8"
  },
  "toc": {
   "base_numbering": "1",
   "nav_menu": {},
   "number_sections": true,
   "sideBar": true,
   "skip_h1_title": false,
   "title_cell": "Hybrid Project",
   "title_sidebar": "Contents",
   "toc_cell": true,
   "toc_position": {
    "height": "calc(100% - 180px)",
    "left": "10px",
    "top": "150px",
    "width": "276.75px"
   },
   "toc_section_display": true,
   "toc_window_display": true
  }
 },
 "nbformat": 4,
 "nbformat_minor": 2
}

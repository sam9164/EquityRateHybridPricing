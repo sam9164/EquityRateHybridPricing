{
 "cells": [
  {
   "cell_type": "markdown",
   "metadata": {},
   "source": [
    "# 1. Introduction"
   ]
  },
  {
   "cell_type": "markdown",
   "metadata": {},
   "source": [
    "$ \\text{For this project, we are going to price the following contract who will pay at maturity T in USD.}$\n",
    "<br><br>\n",
    "$$ max\\left[0,\\left(\\frac{S(T)}{S(0)}-k\\right)\\left(\\frac{L(T-\\delta,T-\\delta,T)}{L(0,T-\\delta,T)}-k^\\prime\\right)\\right]$$\n",
    "<br>\n",
    "$\\text{where:} $<br>\n",
    "$\\text{S(t) = the stock price of STOXX50E quoted from EUR into USD}$ <br>\n",
    "$\\text{$\\delta$ = 3-month USD LIBOR rate}$ <br>\n",
    "$\\text{T = expiration date}$ <br>\n",
    "$\\text{k, $k^{'}$ = relative strike prices}$ <br>\n",
    "$\\text{L(t,T-$\\delta$,T) = forward rate bet}$"
   ]
  },
  {
   "cell_type": "markdown",
   "metadata": {},
   "source": [
    "# 2. Model Assumption"
   ]
  },
  {
   "cell_type": "markdown",
   "metadata": {},
   "source": [
    "##   a) Foreign Equity Model"
   ]
  },
  {
   "cell_type": "markdown",
   "metadata": {},
   "source": [
    "Assume the foreign stock follows the local volatility model with a dynamic under the foreign risk-neutral measure $Q^f$:\n",
    "<br><br>\n",
    "$$\n",
    "dS_t = r_t^fS_t dt + \\sigma(t,S_t)S_t dW_t^{1,f}\n",
    "$$\n",
    "<br>\n",
    "where the foreign rate $r_t^f$ is constant, and we will use the SSVI volatility surface model to fit the market volatility $\\sigma\\left(t,S_t\\right)$, which will be discussed in Part III Model Caliberation."
   ]
  },
  {
   "cell_type": "markdown",
   "metadata": {},
   "source": [
    "##   b) Foreign Exchange Rates Model "
   ]
  },
  {
   "cell_type": "markdown",
   "metadata": {},
   "source": [
    "Assume the rate follows the Hull-White model with costant coefficient $\\alpha$ and time-dependant $\\theta$ :\n",
    "<br><br>\n",
    "$$\n",
    "dr_t = [\\theta(t)-\\alpha r_t ]dt+\\sigma dW_t^2\n",
    "$$\n",
    "<br> where $\\sigma$ is constant, and we will discuss the fitting of $\\theta\\left(t\\right)$ and Hull-White volatility $\\sigma$ later in Part III Model Caliberation.\n",
    "\n",
    "Under foreign risk-neutral measure $Q^f$, we have:\n",
    "$$\n",
    "\\begin{array}{11}\n",
    "dX &= X(r_d-r_f)dt+X\\sigma_X(\\rho dW^{f,1}+\\sqrt{1-\\rho^2}dW^{f,2})\\\\\n",
    "W_t^{f,1} &= W_t^1 - \\int_0^t\\sigma_X \\rho ds\\\\\n",
    "W_t^{f,2} &= W_t^2 - \\int_0^t \\sigma_X \\sqrt{1-\\rho^2}ds\\\\\n",
    "\\text{where} &\\text{$W^{f,1}$ and $W^{f,2}$  are Wiener processes under $Q^f$ }\\\\\n",
    "\\text{} &\\text{$\\sigma_X$ the volatility of USDEUR}\\\\\n",
    "\\text{} &\\text{$\\rho$ the correlation between SX5E and USDEUR}\\\\\n",
    "\\text{} &\\text{Returns of US0003M and USDEUR are assumed independent }\n",
    "\\end{array}\n",
    "$$"
   ]
  },
  {
   "cell_type": "markdown",
   "metadata": {},
   "source": [
    "## c) Local Volatility Quanto Process"
   ]
  },
  {
   "cell_type": "markdown",
   "metadata": {},
   "source": [
    "Here, we will convert the foreign model to the local volatility model with a dynamic under the domestic risk neutral measure Q:<br>\n",
    "$$\n",
    "dS_t = (r_t^f -\\rho_x \\sigma(t,S_t)\\sigma_x)S_t dt + \\sigma(t,S_t)S_t dW_t^1\n",
    "$$\n",
    "<br> where with a constant correlation between the foreign stock and foreign exchange rate $\\rho$ <br><br>\n",
    "$$\n",
    "dW_t^1 dW_t^2 = \\rho dt\n",
    "$$\n",
    "<br>"
   ]
  },
  {
   "cell_type": "markdown",
   "metadata": {},
   "source": [
    "## d) Risk-neutral and Forward Measures"
   ]
  },
  {
   "cell_type": "markdown",
   "metadata": {},
   "source": [
    "$\\text{Risk-neutral Measure:}$\n",
    "$$\n",
    "\\begin{array}{ll}\n",
    "    & dS_t = (r_t^f -\\rho_x \\sigma(t,S_t)\\sigma_x)S_t dt + \\sigma(t,S_t)S_t dW_t^1\\\\\n",
    "    & dr_t = [\\theta(t)-\\alpha r_t ]dt+\\sigma dW_t^2\\\\\n",
    "\\end{array}\n",
    "$$\n",
    "\n",
    "$\\text{Forward Measure:}$\n",
    "$$\n",
    "\\begin{array}{ll}\n",
    "    & dS_t = [r_t^f -\\rho_x b(t,T)\\sigma_x + \\rho\\sigma_pb(t,T)]S_t dt + b(t,T)S_t dW_t^{1,f}\\\\\n",
    "    & dr_t = [\\theta(t)-\\alpha r_t + \\sigma\\sigma_p]dt+\\sigma dW_t^{2,f}\\\\\n",
    "\\end{array}\n",
    "$$\n"
   ]
  },
  {
   "cell_type": "markdown",
   "metadata": {},
   "source": [
    "# 3. Model Caliberation"
   ]
  },
  {
   "cell_type": "markdown",
   "metadata": {},
   "source": [
    "## a) Data Processing"
   ]
  },
  {
   "cell_type": "markdown",
   "metadata": {},
   "source": [
    "To price the contract, we have utlizied the following data from date November 15, 2019.\n",
    "\n",
    "* Yield Curve with Tenor $1M, 2M, 3M, 5M, 1Y, 2Y, 3Y, 5Y, 7Y, 10Y, 30Y$\n",
    "* Bid/Mid/Ask Volatility Surface with Tenor $\\frac{1}{12}, \\frac{1}{6}, \\frac{1}{4}, \\frac{1}{2}, 1, \\frac{3}{2}, 2$\n",
    "* Implied Forward Rate with <br> Tenor $1M,2M,3M,6M,1Y,1.5Y,2Y$ and; <br>\n",
    "  Moneyness: $0.8, 0.85, 0.9, 0.95, 0.975, 1, 1.025, 1.05, 1.1, 1.15, 1.2., 35.87, 1.57$\n",
    "* At-the-money Caplet Strike and Volatility with 1-year expiration\n",
    "* Spot Price of Euro Stoxx 50 (STOXX50E)\n",
    "* 3 Month US Dollar LIBOR interest rate (US0003M)\n",
    "* Euro to US Dollar Exchange Rate (USDEUR)"
   ]
  },
  {
   "cell_type": "markdown",
   "metadata": {},
   "source": [
    "## b) Correlation"
   ]
  },
  {
   "cell_type": "markdown",
   "metadata": {},
   "source": [
    "We compute the correlations among the returns of Euro Stoxx 50(STOXX50E), 3 Month US Dollar LIBOR interest rate(US0003M), and Euro to US Dollar Exchange Rate(USDEUR) in November 15, 2019 and assume them to be constant.\n",
    "\n",
    "The corresponding correlation between STOXX50E and USDEUR, denoted as $\\rho$, will be utilized for the models in Part II Model Assumption."
   ]
  },
  {
   "cell_type": "markdown",
   "metadata": {},
   "source": [
    "## c) Yield Curve "
   ]
  },
  {
   "cell_type": "markdown",
   "metadata": {},
   "source": [
    "We use monotonic cubic spline interpolation on log-discounts to contruct the yield curve. This choice of interpolation preserves monotonicity of the data set being interpolated and ensure the existence of first derivative. Past reseach and empirical evidence also reveal that monotomic spline interpolation on log-discounts appear to be a better approach than other approaches (e.g. piecewise linear).\n",
    "\n",
    "For the impletmention, we have data of zero rates $r(0,T_i)$ for discrete tenors i at hand. Since\n",
    "<br><br>\n",
    "$$B(0,T_i) = e^{-T_ir(0,T_i)} = e^{-y_i}$$\n",
    "<br>\n",
    "We transform $r(0,T_i)$ into log_discount $y_i$ and interpolate $y_i$ with regard to $T_i$ using monotomic culic spline interpolation. After interpolated $y_i$ is available for $\\forall T_i$, we can derive various rates for $\\forall T_i$ using the following formulas, which are involved in the other models disscussed afterwards.\n",
    "$$\n",
    "\\begin{array}{11}\n",
    "    \\\\\n",
    "     P_{\\text{zero-bond}} \\space & B(0,T_i) = e^{-T_ir(0,T_i)} = e^{-y_i}\\\\\n",
    "     \\text{Zero rate}& r(0,T_i) = \\frac{y_i}{T_i}\\\\\n",
    "     \\text{Countinous-compounding forward rate} & F(0,T_1,T_2) = \\frac{1}{T_2-T_1}\\log\\left(\\frac{B(0,T_1)}{B(0,T_2)}\\right)\\\\\n",
    "     \\text{Simple forward rate}& L(0,T_1,T_2) = \\frac{1}{T_2-T_1}\\frac{B(0,T_1)-B(0,T_2)}{B(0,T_2)}\\\\\n",
    "     \\text{Instantaneous forward rate}& f(0,T)= lim_{(T' - T)\\to 0} F(0,T,T') = \\frac{\\partial y(T)}{\\partial T} \\\\\n",
    "     \\text{Instantaneous spot rate}& r_0= f(0,0) = \\frac{\\partial y_i}{\\partial T_i}\\rvert_{i=0} \\\\\n",
    "\\end{array}\n",
    "$$"
   ]
  },
  {
   "cell_type": "markdown",
   "metadata": {},
   "source": [
    "## d) Hull White Model Caliberation"
   ]
  },
  {
   "cell_type": "markdown",
   "metadata": {},
   "source": [
    "In the Hull-White model $dr_t = [\\theta(t)-\\alpha r_t ]dt+\\sigma dW_t^2$, there are 3 parameters to determine - $\\alpha, \\sigma, \\theta$.\n",
    "\n",
    "\n",
    "*$\\alpha$\n",
    "<br>\n",
    "$\\alpha$ is set to be a plausible constant and is not sensitive to the model.\n",
    "\n",
    "*$\\sigma$\n",
    "\n",
    "Since we have the data of caplet volatility, we compute Hull-White volatility $\\sigma$ from caplet volatility $vol$. Given caplet volatility $vol$, we can get the caplet price,\n",
    "<br><br>\n",
    "$$\n",
    "Caplet(0,T_1,T_2,K,vol) = B(0,T_2) BS^C(K,T_1,S,vol,r)\n",
    "$$\n",
    "<br>\n",
    "After $Caplet(0,T_1,T_2,K,vol)$ is known, we can compute the bond price $C^B(0,T_1,T_2,K^B)$ and then derive the bond volatility $vol^B$ using the following equation:\n",
    "<br><br>\n",
    "$$\n",
    "C^B(0,T_1,T_2,K^B) = \\frac{(T_2-T_1)}{B(0,T_1)(1+K(T_2-T_1))}Caplet(0,T_1,T_2,K,vol) = BS^P(K^B,T_1,S^B,vol^B,r)\n",
    "$$\n",
    "<br>\n",
    "Then we will have\n",
    "<br><br>\n",
    "$$\n",
    "\\sigma_p =\\sqrt {T_1} vol^B\n",
    "$$\n",
    "<br>which will generate the Hull-White volatility:\n",
    "<br><br>\n",
    "$$\n",
    "\\sigma = \\sqrt{\\frac{2a^3\\sigma_p^2}{(1-e^{-a(T_2-T_1)})^2(1-e^{-2aT_1})^2}}\n",
    "$$\n",
    "where <br>\n",
    "$S=L(0,T_1,T_2)$ <br>\n",
    "$K^B=\\frac{1}{1+K(T_2-T_1)}$ <br>\n",
    "$S^B=\\frac{1}{1+(T_2-T_1)L(0,T_1,T_2)}$ <br>\n",
    "$r = 0$ <br>\n",
    "$a = 3$\n",
    "\n",
    "<br>\n",
    "*$\\theta(t)$\n",
    "<br>\n",
    "$\\theta(t)$ is chosen to fit the theoretical forward rate curve $\\{f(0,T_i);T_i>0\\}$ to the observed curve $\\{f^*(0,T_i);T_i>0\\}$ using an affine structure. The observed curve is derived from the constructed yield curve. As a result, \n",
    "$$\n",
    "\\begin{array}{11}\n",
    "\\theta(T_i) & = f_{T_i}^*(0,T_i) + \\dot{g}(T_i) + a\\{f^*(0,T_i)+g(T_i)\\} \\\\\n",
    "\\text{where       }  g(T_i) & = \\frac{\\sigma^2}{2\\alpha^2}(1-e^{-\\alpha T_i})^2 \\\\\n",
    "& \\text{$\\alpha$, $\\sigma$ are the parameters in the Hull-White model}\n",
    "\\end{array}\n",
    "$$"
   ]
  },
  {
   "cell_type": "markdown",
   "metadata": {},
   "source": [
    "## e) SSVI Volatility Surface"
   ]
  },
  {
   "cell_type": "markdown",
   "metadata": {},
   "source": [
    "### * SSVI Parameterization"
   ]
  },
  {
   "cell_type": "markdown",
   "metadata": {},
   "source": [
    "We consider the following SSVI parameterisation of the total implied variance surface:\n",
    "<br><br>\n",
    "$$\n",
    "w(k,\\theta_t)\n",
    "= \\frac{\\theta_t}{2}\\left\\{1+\\rho\\varphi(\\theta_t) k + \\sqrt{\\left(\\varphi(\\theta_t){k}+\\rho\\right)^2\n",
    "+1-\\rho^2 }\\right\\},\n",
    "$$\n",
    "<br>\n",
    "with $\\theta_t = \\sigma_s^2 t$ and $k=log\\frac{K}{F}$, where $\\sigma_s$ denotes at-the-money volatility skew, K denotes strike, and F denotes the forward.\n",
    "\n",
    "<br><br>\n",
    "For Heston-Like Surface, the function $\\varphi$ is defined as:\n",
    "<br><br>\n",
    "$$\n",
    "\\varphi(\\theta)=\\frac{1}{\\lambda\\theta}\\left\\{1-\\frac{1-\\mathrm{e}^{-\\lambda\\theta}}{\\lambda\\theta}\\right\\},\n",
    "$$\n",
    "<br>\n",
    "where $\\lambda>0$, $\\rho \\in (-1,1)$.\n",
    "We further need to impose $\\lambda \\geq \\frac{1}{4}\\left(1+|\\rho|\\right)$ in order to prevent arbitrage.\n",
    "\n",
    "<br><br>\n",
    "and for Power-Law Surface:\n",
    "<br>\n",
    "$$\n",
    "\\varphi(\\theta)=\\frac{\\eta}{\\theta^\\gamma\\left(1+\\theta\\right)^{1-\\gamma}},\n",
    "$$\n",
    "<br>\n",
    "where $\\gamma\\in (0,\\frac{1}{2}]$,  $\\rho \\in (-1,1)$.\n",
    "We further need to impose $\\eta\\left(1+|\\rho|\\right)\\leq 2$ in order to prevent arbitrage.\n",
    "\n"
   ]
  },
  {
   "cell_type": "markdown",
   "metadata": {},
   "source": [
    "### *Opitimize the Parameters"
   ]
  },
  {
   "cell_type": "markdown",
   "metadata": {},
   "source": [
    "In order to fit the whole surface, we first need to find the optimal parameters $\\rho$,$\\gamma$,$\\lambda$,$\\eta$, which can be solved by minimizing the loss function as following.\n",
    "<br><br>\n",
    "The basic formula for the loss function is\n",
    "$$\n",
    "min \\sum_{t_i}\\sum_{i=1}^n\\left(w_{t_i,i}^{SSVI}-w_{t_i,i}^{market}\\right)^2\n",
    "$$\n",
    "<br><br>\n",
    "After adjusting the coefficients, we get\n",
    "$$\n",
    "min \\sum_{t_i}\\sum_{i=1}^n\\frac{1}{2}\\left(\\frac{w_{t_i,i}^{SSVI}}{t_i}-\\left(\\sigma_{t_i,i}^{market}\\right)^2\\right)^2\n",
    "$$\n",
    "<br>\n",
    "or\n",
    "<br>\n",
    "$$\n",
    "min \\sum_{t_i}\\sum_{i=1}^n\\frac{1}{2}\\left(w_{t_i,i}^{SSVI}-\\left(\\sigma_{t_i,i}^{market}\\right)^2t_i\\right)^2\n",
    "$$"
   ]
  },
  {
   "cell_type": "markdown",
   "metadata": {},
   "source": [
    "### *Derivatives"
   ]
  },
  {
   "cell_type": "markdown",
   "metadata": {},
   "source": [
    "Compute the first and second derivative of the SSVI function, $w(k,\\theta_t)$, with respect to $k$.\n",
    "<br><br>\n",
    "\\begin{align}\n",
    "\\frac{\\partial w}{\\partial k} & = \\frac{\\theta\\varphi}{2}\\frac{k\\varphi+\\rho+\\rho\\sqrt{\\varphi^2k^2+2\\rho\\varphi+1}}{\\sqrt{\\varphi^2k^2+2k\\rho\\varphi+1}}\\\\\n",
    "\\frac{\\partial^2 w}{\\partial k^2} & = \\frac{\\theta\\varphi^2}{2}\\frac{1-\\rho^2}\n",
    "{\\left(\\varphi^2k^2+2k\\rho\\varphi+1\\right)^\\frac{3}{2}}\n",
    "\\end{align}\n",
    "<br><br>\n",
    "Use the chain rule to find the first derivative of the SSVI function, $w(k,\\theta_t)$, with respect to $t$\n",
    "<br><br>\n",
    "$$\n",
    "\\frac{\\partial w}{\\partial t}=\\frac{\\partial w}{\\partial \\theta}\\frac{\\partial \\theta}{\\partial t}+\\frac{\\partial w}{\\partial \\varphi}\\frac{\\partial \\varphi}{\\partial \\theta}\\frac{\\partial \\theta}{\\partial t}\n",
    "$$\n",
    "<br>\n",
    "where $\\frac{\\partial \\theta}{\\partial t}$ can be calculated by interpolation and\n",
    "<br>\n",
    "$$\n",
    "\\begin{align}\n",
    "\\frac{\\partial w}{\\partial \\theta} & =\\frac{w}{\\theta}\\\\\n",
    "\\frac{\\partial w}{\\partial \\varphi} & = \\frac{k\\theta}{2}\\frac{k\\varphi+\\rho+\\rho\\sqrt{\\varphi^2k^2+2\\rho\\varphi+1}}{\\sqrt{\\varphi^2k^2+2k\\rho\\varphi+1}}\\\\\n",
    "\\frac{\\partial \\varphi^{power}}{\\partial \\theta} & =  \\frac{\\eta\\left(\\theta+\\gamma\\right)\\left(1+\\theta\\right)^{\\gamma-2}}{\\theta^{1+\\gamma}}\\\\\n",
    "\\frac{\\partial \\varphi^{heston}}{\\partial \\theta} & = \\frac{2-2\\exp{-\\lambda\\theta}-\\lambda\\theta\\exp{-\\lambda\\theta}-\\lambda\\theta}{\\lambda^2\\theta^3}\n",
    "\\end{align}\n",
    "$$\n",
    "\n",
    "\n"
   ]
  },
  {
   "cell_type": "markdown",
   "metadata": {},
   "source": [
    "## f) Local Variance and Implied Variance"
   ]
  },
  {
   "cell_type": "markdown",
   "metadata": {},
   "source": [
    "<br><br>\n",
    "We then compute the (Dupire) local variance via the following formula:\n",
    "<br><br>\n",
    "$$\n",
    "\\sigma_{\\mathrm{loc}}^2(x, T) = \\frac{\\partial_{t}w(k, \\theta_{t})}{g(k, w(k, \\theta_{t}))},\n",
    "$$\n",
    "<br>\n",
    "for all $x\\in\\mathbb{R}$ and $t\\geq 0$, where the function $g$ is defined as:\n",
    "<br><br>\n",
    "$$\n",
    "\\begin{equation}\\label{gFunction}\n",
    "\\left.\n",
    "g(x,T):=\\left(\\left(1-\\frac{x\\partial_x w}{w}\\right)^2 -\\frac{(\\partial_x w)^2}{4}\\left(\\frac{1}{4}+\\frac{1}{w}\\right) + \\frac{\\partial_{xx}w}{2}\\right)\n",
    "\\right|_{(x,T)}.\n",
    "\\end{equation}\n",
    "$$\n",
    "<br>\n",
    "and the implied variance is\n",
    "<br><br>\n",
    "$$\n",
    "\\sigma_{\\mathrm{implied}}^2(x, T) = \\frac{w(k, \\theta_{t})}{T},\n",
    "$$"
   ]
  },
  {
   "cell_type": "markdown",
   "metadata": {},
   "source": [
    "# 4. Implementation"
   ]
  },
  {
   "cell_type": "markdown",
   "metadata": {},
   "source": [
    "## a) Market Bundle"
   ]
  },
  {
   "cell_type": "markdown",
   "metadata": {},
   "source": [
    "We have mainly written three classes that contain functions related to various market structure. \n",
    "\n",
    "* **Yield Term Structure class** <br>\n",
    "  It generates both the flat yield curve and interpolated yeild curve using discrete market data. For each tenor, it will output discounted rate, risk-free rate, forward rate, instantaneous forward rate, etc. \n",
    "\n",
    "* **Volatility Term Structure** <br>\n",
    "  This class generates a flat volatility surface and a interpolated volatility surface using SSVI model. It takes different tenors as input and will return implied volatility and local volatility.\n",
    "  \n",
    "* **Correlation Structure**<br>\n",
    "  For each inputted tenor and moneyness value, this class will return the correlation between the foreign stock and foreign exchange rate, denoted as $\\rho$, which is used in the models in Part II Model Assumption."
   ]
  },
  {
   "cell_type": "markdown",
   "metadata": {},
   "source": [
    "## b) Products"
   ]
  },
  {
   "cell_type": "markdown",
   "metadata": {},
   "source": [
    "Three different types of instruments are used to price the contract.\n",
    "\n",
    "* **Vanilla European Option** with payoff <br>\n",
    "  $$ \\xi_{call} = max[S_T-K_s,0]$$ <br> $$ \\xi_{put} = max[K_s-S_T,0]$$ <br>\n",
    "  where $K_s$ is the strike price, and $S_T$ is the stock price at maturity T <br><br>\n",
    "  \n",
    "* **Vanilla Caplet Floorlet Option** with payoff <br>\n",
    "  $$ \\xi_{cap} = max[L_T-K_r,0]$$ <br> $$ \\xi_{floor} = max[K_r-L_T,0]$$ <br>\n",
    "  where $K_r$ is the strike rate, and $L_T$ is the interest rate at time T <br><br>\n",
    "\n",
    "* **Hybrid Product** with payoff\n",
    "  $$ \\xi_{hybrid} = max[(S_T-K_s)(L_T-K_r),0] $$ <br>\n",
    "  where this product is a mix of Vanilla European Option and Vanilla Caplet Florrlet Option, and $K_s$, $K_r$, $S_T$, $L_T$ is the equity strike price, interest rate strike rate, stock price at time T, and interest rate at time T, respectively.\n",
    "\n"
   ]
  },
  {
   "cell_type": "markdown",
   "metadata": {},
   "source": [
    "## c) Stochastic Process"
   ]
  },
  {
   "cell_type": "code",
   "execution_count": null,
   "metadata": {},
   "outputs": [],
   "source": []
  },
  {
   "cell_type": "markdown",
   "metadata": {},
   "source": [
    "## d) Pricing Engine"
   ]
  },
  {
   "cell_type": "markdown",
   "metadata": {},
   "source": [
    "BS\n",
    "Hull-White: ptt: bond\n",
    "option on bond\n",
    "Caplet as option on bond"
   ]
  },
  {
   "cell_type": "markdown",
   "metadata": {},
   "source": [
    "### *Analytical Engine"
   ]
  },
  {
   "cell_type": "markdown",
   "metadata": {},
   "source": [
    "There are two types of analytical engine:\n",
    "        \n",
    "* **Vanilla European Analytical Engine** <br>\n",
    "  This engine utilized the Black-Scholes Model to price the Vanilla European Option products. It takes six parameters, <br>\n",
    "  * $K$: strike price\n",
    "  * $T$: time to maturity\n",
    "  * $vol$: implied volatility calculated from Volatility Term Structure Class\n",
    "  * $r$: risk-free rate calculated from Yield Term Structure class \n",
    "  * $callput$: choice of call or put option\n",
    "<br><br>\n",
    "* **Vanilla Rate Hull-White Analytical Engine**\n",
    "  This engine utilized the Hull-White Model to price the bond option."
   ]
  },
  {
   "cell_type": "markdown",
   "metadata": {},
   "source": [
    "### *Monte Carlo Engine"
   ]
  },
  {
   "cell_type": "markdown",
   "metadata": {},
   "source": [
    "There are five types of Monte Carlo Engine:\n",
    "\n",
    "* Vanilla European Monte Carlo Engine \n",
    "\n",
    "* Vanilla Rate Hull-White Semi Monte Carlo Engine\n",
    "\n",
    "* Vanilla Rate Hull-White Forward Semi Monte Carlo Engine\n",
    "\n",
    "* Hybrid Monte Carlo Engine\n",
    "\n",
    "* Hybrid Forward Monte Carlo Engine"
   ]
  },
  {
   "cell_type": "markdown",
   "metadata": {},
   "source": [
    "# 5. Stochastic Control"
   ]
  },
  {
   "cell_type": "markdown",
   "metadata": {},
   "source": [
    "# 6. Conclusion"
   ]
  },
  {
   "cell_type": "code",
   "execution_count": null,
   "metadata": {},
   "outputs": [],
   "source": []
  }
 ],
 "metadata": {
  "kernelspec": {
   "display_name": "Python 3",
   "language": "python",
   "name": "python3"
  },
  "language_info": {
   "codemirror_mode": {
    "name": "ipython",
    "version": 3
   },
   "file_extension": ".py",
   "mimetype": "text/x-python",
   "name": "python",
   "nbconvert_exporter": "python",
   "pygments_lexer": "ipython3",
   "version": "3.6.8"
  },
  "toc": {
   "base_numbering": 1,
   "nav_menu": {},
   "number_sections": true,
   "sideBar": true,
   "skip_h1_title": false,
   "title_cell": "Table of Contents",
   "title_sidebar": "Contents",
   "toc_cell": false,
   "toc_position": {},
   "toc_section_display": true,
   "toc_window_display": false
  }
 },
 "nbformat": 4,
 "nbformat_minor": 2
}
